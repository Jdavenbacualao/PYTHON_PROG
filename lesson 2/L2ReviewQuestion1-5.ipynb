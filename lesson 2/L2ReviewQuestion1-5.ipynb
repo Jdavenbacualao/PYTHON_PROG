{
 "cells": [
  {
   "cell_type": "markdown",
   "id": "fcdd779e-c4be-4218-8925-82dddd835251",
   "metadata": {},
   "source": [
    "# review 1"
   ]
  },
  {
   "cell_type": "code",
   "execution_count": 3,
   "id": "461bc804-e1a5-40b3-85db-b55a27c6f989",
   "metadata": {},
   "outputs": [
    {
     "name": "stdout",
     "output_type": "stream",
     "text": [
      "25000000\n",
      "25000000\n"
     ]
    }
   ],
   "source": [
    "num1 = 25000000\n",
    "num2 = 25_000_000\n",
    "print(num1)\n",
    "print(num2)\n",
    "\n"
   ]
  },
  {
   "cell_type": "code",
   "execution_count": 7,
   "id": "951ffb62-da5a-4fff-9f18-c867f6f512e1",
   "metadata": {},
   "outputs": [
    {
     "name": "stdout",
     "output_type": "stream",
     "text": [
      "175000.0\n"
     ]
    }
   ],
   "source": [
    "num = 175e3\n",
    "print(num)"
   ]
  },
  {
   "cell_type": "code",
   "execution_count": 8,
   "id": "48226790-082c-4264-861f-f58578ec6f7d",
   "metadata": {},
   "outputs": [
    {
     "name": "stdout",
     "output_type": "stream",
     "text": [
      "inf\n"
     ]
    }
   ],
   "source": [
    "print(2e308)"
   ]
  },
  {
   "cell_type": "markdown",
   "id": "04edcbce-2e53-452e-9e44-8c27384841cb",
   "metadata": {},
   "source": [
    "# review 2"
   ]
  },
  {
   "cell_type": "code",
   "execution_count": 9,
   "id": "34d2096a-7c76-4eb3-a345-036719333a71",
   "metadata": {},
   "outputs": [
    {
     "name": "stdin",
     "output_type": "stream",
     "text": [
      "enter a base:  1.2\n",
      "Enter an exponent 3\n"
     ]
    },
    {
     "name": "stdout",
     "output_type": "stream",
     "text": [
      "1.7279999999999998\n"
     ]
    }
   ],
   "source": [
    "num1 = float(input(\"enter a base: \"))\n",
    "num2 = int(input(\"Enter an exponent\"))\n",
    "answer = num1 ** num2\n",
    "print(answer)"
   ]
  },
  {
   "cell_type": "markdown",
   "id": "aa4612bc-dce4-4a80-a47a-db4d922b6291",
   "metadata": {},
   "source": [
    "# review 3"
   ]
  },
  {
   "cell_type": "code",
   "execution_count": 10,
   "id": "b83fbfb5-db30-459b-b68b-b6a68794b50c",
   "metadata": {},
   "outputs": [
    {
     "name": "stdin",
     "output_type": "stream",
     "text": [
      "Enter a number 5.432\n"
     ]
    },
    {
     "name": "stdout",
     "output_type": "stream",
     "text": [
      "5.43\n"
     ]
    }
   ],
   "source": [
    "num1 = float(input(\"Enter a number\"))\n",
    "num1 = round(num1, 2)\n",
    "print(num1)"
   ]
  },
  {
   "cell_type": "code",
   "execution_count": 12,
   "id": "6a7fb6fc-2b51-4236-9be4-7140a054761a",
   "metadata": {},
   "outputs": [
    {
     "name": "stdin",
     "output_type": "stream",
     "text": [
      "Enter a number -10\n"
     ]
    },
    {
     "name": "stdout",
     "output_type": "stream",
     "text": [
      "10.0\n"
     ]
    }
   ],
   "source": [
    "num = float(input(\"Enter a number\"))\n",
    "num = abs(num)\n",
    "print(num)"
   ]
  },
  {
   "cell_type": "markdown",
   "id": "f317b201-de29-4b78-9941-1b95a23f048e",
   "metadata": {},
   "source": [
    "# review 4"
   ]
  },
  {
   "cell_type": "code",
   "execution_count": 16,
   "id": "3624f70b-6f7d-465d-a29f-b35d8605eb25",
   "metadata": {},
   "outputs": [
    {
     "name": "stdin",
     "output_type": "stream",
     "text": [
      "Enter a number 2\n",
      "Enter another number 4\n"
     ]
    },
    {
     "name": "stdout",
     "output_type": "stream",
     "text": [
      "True\n"
     ]
    }
   ],
   "source": [
    "num1 = float(input(\"Enter a number\"))\n",
    "num2 = float(input(\"Enter another number\"))\n",
    "answer = abs(num1-num2) \n",
    "print (answer.is_integer())"
   ]
  },
  {
   "cell_type": "markdown",
   "id": "91c4def8-879c-419f-bb94-77d2726242e3",
   "metadata": {},
   "source": [
    "# review 5\n"
   ]
  },
  {
   "cell_type": "code",
   "execution_count": 13,
   "id": "0cc59b19-8437-4611-bb12-730151c7f054",
   "metadata": {},
   "outputs": [
    {
     "name": "stdout",
     "output_type": "stream",
     "text": [
      "$1.147\n"
     ]
    }
   ],
   "source": [
    "num = 3**.125\n",
    "print(f\"${num:.3f}\")\n"
   ]
  },
  {
   "cell_type": "code",
   "execution_count": 14,
   "id": "00617a33-531e-469b-a937-2c160da876ae",
   "metadata": {},
   "outputs": [
    {
     "name": "stdout",
     "output_type": "stream",
     "text": [
      "150,000.00\n"
     ]
    }
   ],
   "source": [
    "num1 = 150000\n",
    "print(f\"{num1:,.2f}\")\n"
   ]
  },
  {
   "cell_type": "code",
   "execution_count": 15,
   "id": "6a4fe5c3-d78f-4bb7-9ae6-c1b765af12fd",
   "metadata": {},
   "outputs": [
    {
     "name": "stdout",
     "output_type": "stream",
     "text": [
      "20%\n"
     ]
    }
   ],
   "source": [
    "num = 2/10\n",
    "print(f\"{num:.0%}\")"
   ]
  },
  {
   "cell_type": "code",
   "execution_count": null,
   "id": "3ae6357d-3ab6-4730-8290-f4be0e739142",
   "metadata": {},
   "outputs": [],
   "source": []
  },
  {
   "cell_type": "code",
   "execution_count": null,
   "id": "f48a0c32-b452-43b0-a36a-0b9427a16b02",
   "metadata": {},
   "outputs": [],
   "source": []
  }
 ],
 "metadata": {
  "kernelspec": {
   "display_name": "anaconda-panel-2023.05-py310",
   "language": "python",
   "name": "conda-env-anaconda-panel-2023.05-py310-py"
  },
  "language_info": {
   "codemirror_mode": {
    "name": "ipython",
    "version": 3
   },
   "file_extension": ".py",
   "mimetype": "text/x-python",
   "name": "python",
   "nbconvert_exporter": "python",
   "pygments_lexer": "ipython3",
   "version": "3.11.5"
  }
 },
 "nbformat": 4,
 "nbformat_minor": 5
}
