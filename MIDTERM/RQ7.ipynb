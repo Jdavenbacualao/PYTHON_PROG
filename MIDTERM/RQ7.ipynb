{
 "cells": [
  {
   "cell_type": "markdown",
   "id": "dc4e9eae-3c61-458b-8843-89150afb88cd",
   "metadata": {},
   "source": [
    "# Q7. OOP: Vehicles with Odometer and Fuel\n",
    "\n",
    "Task.\n",
    "Design classes Vehicle, Car, and Truck with attributes color, mileage, and fuel_liters. Implement drive() and refuel(), with Truck overriding efficiency.\n",
    "Anchor concepts: classes, inheritance, method overriding.\n",
    "\n",
    "# Prompt (paste verbatim)\n",
    "\n",
    "Create a base class Vehicle with attributes color, mileage, and fuel_liters. Subclass it into Car and Truck. Include drive(km, km_per_liter) and refuel(liters). Override Truck’s drive efficiency.\n",
    "\n",
    "# Critique\n",
    "\n",
    "Correctness: Works well, correct logic.\n",
    "Complexity: O(1).\n",
    "Robustness: No type validation, no string representation.\n",
    "Readability: Clear and well-structured.\n",
    "Faithfulness: Proper inheritance and overriding used."
   ]
  },
  {
   "cell_type": "code",
   "execution_count": 2,
   "id": "6fad8a9d-caac-44d8-bc67-a3490d399eb8",
   "metadata": {},
   "outputs": [
    {
     "name": "stdout",
     "output_type": "stream",
     "text": [
      "10100 40.0\n",
      "20100 67.5\n"
     ]
    }
   ],
   "source": [
    "#IMPROVE CODE\n",
    "class Vehicle:\n",
    "    \"\"\"Base class representing a vehicle.\"\"\"\n",
    "    def __init__(self, color: str, mileage: float, fuel_liters: float):\n",
    "        self.color = color\n",
    "        self.mileage = mileage\n",
    "        self.fuel_liters = fuel_liters\n",
    "\n",
    "    def drive(self, km: float, km_per_liter: float) -> None:\n",
    "        \"\"\"Drive the vehicle, consuming fuel.\"\"\"\n",
    "        fuel_used = km / km_per_liter\n",
    "        if fuel_used > self.fuel_liters:\n",
    "            km = self.fuel_liters * km_per_liter\n",
    "            fuel_used = self.fuel_liters\n",
    "        self.mileage += km\n",
    "        self.fuel_liters -= fuel_used\n",
    "\n",
    "    def refuel(self, liters: float) -> None:\n",
    "        self.fuel_liters += liters\n",
    "\n",
    "class Car(Vehicle):\n",
    "    \"\"\"A car inheriting from Vehicle.\"\"\"\n",
    "    pass\n",
    "\n",
    "class Truck(Vehicle):\n",
    "    \"\"\"Truck uses more fuel than a car.\"\"\"\n",
    "    def drive(self, km: float, km_per_liter: float) -> None:\n",
    "        super().drive(km, km_per_liter * 0.8)\n",
    "\n",
    "if __name__ == \"__main__\":\n",
    "    car = Car(\"red\", 10000, 50)\n",
    "    truck = Truck(\"blue\", 20000, 80)\n",
    "    car.drive(100, 10)\n",
    "    truck.drive(100, 10)\n",
    "    print(car.mileage, car.fuel_liters)\n",
    "    print(truck.mileage, truck.fuel_liters)\n"
   ]
  },
  {
   "cell_type": "code",
   "execution_count": 1,
   "id": "5737f37c-046c-487e-9cc9-47b7f1d5d76b",
   "metadata": {},
   "outputs": [],
   "source": [
    "#CHATGPT CODE\n",
    "\n",
    "class Vehicle:\n",
    "    def __init__(self, color, mileage, fuel_liters):\n",
    "        self.color = color\n",
    "        self.mileage = mileage\n",
    "        self.fuel_liters = fuel_liters\n",
    "\n",
    "    def drive(self, km, km_per_liter):\n",
    "        fuel_used = km / km_per_liter\n",
    "        self.mileage += km\n",
    "        self.fuel_liters = max(0, self.fuel_liters - fuel_used)\n",
    "\n",
    "    def refuel(self, liters):\n",
    "        self.fuel_liters += liters\n",
    "\n",
    "class Car(Vehicle):\n",
    "    pass\n",
    "\n",
    "class Truck(Vehicle):\n",
    "    def drive(self, km, km_per_liter):\n",
    "        super().drive(km, km_per_liter * 0.8)\n"
   ]
  },
  {
   "cell_type": "code",
   "execution_count": null,
   "id": "e3067eb0-1d88-4788-b32c-7f7607b6cf0a",
   "metadata": {},
   "outputs": [],
   "source": []
  }
 ],
 "metadata": {
  "kernelspec": {
   "display_name": "Python [conda env:base] *",
   "language": "python",
   "name": "conda-base-py"
  },
  "language_info": {
   "codemirror_mode": {
    "name": "ipython",
    "version": 3
   },
   "file_extension": ".py",
   "mimetype": "text/x-python",
   "name": "python",
   "nbconvert_exporter": "python",
   "pygments_lexer": "ipython3",
   "version": "3.13.5"
  }
 },
 "nbformat": 4,
 "nbformat_minor": 5
}
