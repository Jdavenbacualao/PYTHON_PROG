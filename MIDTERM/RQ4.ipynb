{
 "cells": [
  {
   "cell_type": "markdown",
   "id": "804163e9-8c35-409e-b2fa-6da830d97750",
   "metadata": {},
   "source": [
    "# Q4. Exponent Tool & Input Validation\n",
    "\n",
    "Task.\n",
    "Create a CLI program exponent.py that reads two numbers, validates input, and prints a ** b. Compare try/except vs isdigit().\n",
    "Anchor concepts: arithmetic operators, exceptions, input handling.\n",
    "\n",
    "# Prompt (paste verbatim)\n",
    "\n",
    "Write a Python program that asks the user for two values, validates they are numeric, handles ValueError using try/except, and prints a ** b.\n",
    "\n",
    "# Critique\n",
    "\n",
    "Correctness: Performs required function correctly.\n",
    "Complexity: O(1).\n",
    "Robustness: Graceful exception handling, but no loop for retries.\n",
    "Readability: Clear and concise.\n",
    "Faithfulness: Matches lecture on try/except vs isdigit() (which can’t handle floats/negatives).\n",
    "\n",
    "Improved Code"
   ]
  },
  {
   "cell_type": "code",
   "execution_count": 2,
   "id": "0e676fa2-cfd7-430b-b270-2557cfe51dfd",
   "metadata": {},
   "outputs": [
    {
     "name": "stdin",
     "output_type": "stream",
     "text": [
      "Enter base (Q to quit):  5\n",
      "Enter exponent:  4\n"
     ]
    },
    {
     "name": "stdout",
     "output_type": "stream",
     "text": [
      "Result: 625.0\n"
     ]
    }
   ],
   "source": [
    "#IMPROVE CODE\n",
    "def exponent_tool():\n",
    "    \"\"\"\n",
    "    Reads two numeric inputs and computes a ** b.\n",
    "    Handles invalid input using try/except gracefully.\n",
    "    \"\"\"\n",
    "    while True:\n",
    "        try:\n",
    "            a = float(input(\"Enter base (Q to quit): \") or \"Q\")\n",
    "            b = float(input(\"Enter exponent: \"))\n",
    "            print(f\"Result: {a ** b}\")\n",
    "            break\n",
    "        except ValueError:\n",
    "            print(\"Please enter valid numbers or type Q to quit.\")\n",
    "        except KeyboardInterrupt:\n",
    "            print(\"\\nExiting program.\")\n",
    "            break\n",
    "\n",
    "\n",
    "if __name__ == \"__main__\":\n",
    "    exponent_tool()\n"
   ]
  },
  {
   "cell_type": "code",
   "execution_count": 3,
   "id": "2520e876-3e9d-4fee-8152-807622321537",
   "metadata": {},
   "outputs": [
    {
     "name": "stdin",
     "output_type": "stream",
     "text": [
      "Enter base:  1\n",
      "Enter exponent:  2\n"
     ]
    },
    {
     "name": "stdout",
     "output_type": "stream",
     "text": [
      "Result: 1.0\n"
     ]
    }
   ],
   "source": [
    "#CHATGPT CODE\n",
    "try:\n",
    "    a = float(input(\"Enter base: \"))\n",
    "    b = float(input(\"Enter exponent: \"))\n",
    "    print(f\"Result: {a ** b}\")\n",
    "except ValueError:\n",
    "    print(\"Invalid input.\")\n"
   ]
  },
  {
   "cell_type": "code",
   "execution_count": null,
   "id": "599cb504-a545-436e-b8bc-febbfdfbad6a",
   "metadata": {},
   "outputs": [],
   "source": []
  }
 ],
 "metadata": {
  "kernelspec": {
   "display_name": "Python [conda env:base] *",
   "language": "python",
   "name": "conda-base-py"
  },
  "language_info": {
   "codemirror_mode": {
    "name": "ipython",
    "version": 3
   },
   "file_extension": ".py",
   "mimetype": "text/x-python",
   "name": "python",
   "nbconvert_exporter": "python",
   "pygments_lexer": "ipython3",
   "version": "3.13.5"
  }
 },
 "nbformat": 4,
 "nbformat_minor": 5
}
