{
 "cells": [
  {
   "cell_type": "markdown",
   "id": "1bdb7d28-e4f2-4d3f-a1cd-303af742c82d",
   "metadata": {},
   "source": [
    "# Q3. Currency Formatter & Rounding Ties-to-Even\n",
    "\n",
    "Task.\n",
    "Write fmt_money(x: float) -> str that returns a string like 1,234.50 using proper rounding (banker’s rounding / ties-to-even). Include test cases for 2.5 and 3.5. Explain floating-point representation error and how formatting mitigates it.\n",
    "Anchor concepts: rounding, formatted printing, floating-point representation.\n",
    "\n",
    "# Prompt (paste verbatim)\n",
    "\n",
    "Write a Python function fmt_money(x) that returns a formatted currency string (like 1,234.50). Use banker's rounding (ties to even). Add tests for 2.5 and 3.5.\n",
    "\n",
    "# Critique\n",
    "\n",
    "Correctness: Works and displays correct rounding using round() (banker’s rule).\n",
    "Complexity: O(1).\n",
    "Robustness: No input validation.\n",
    "Readability: Simple and readable. Could use docstring and tests.\n",
    "Faithfulness: Matches lecture use of round and f-string formatting."
   ]
  },
  {
   "cell_type": "code",
   "execution_count": 25,
   "id": "7b4514d7-64b5-47a3-aaee-ae5ff61e297b",
   "metadata": {},
   "outputs": [
    {
     "name": "stdout",
     "output_type": "stream",
     "text": [
      "1,234.50\n",
      "2.50\n",
      "3.50\n",
      "0.00\n"
     ]
    }
   ],
   "source": [
    "#IMPROVE CODE\n",
    "from decimal import Decimal, ROUND_HALF_EVEN\n",
    "\n",
    "def fmt_money(x: float) -> str:\n",
    "    \"\"\"\n",
    "    Return formatted string like 1,234.50 using proper banker's rounding (ties to even).\n",
    "    \"\"\"\n",
    "    if not isinstance(x, (int, float)):\n",
    "        raise TypeError(\"x must be a number\")\n",
    "\n",
    "    # Use Decimal for accurate rounding\n",
    "    rounded = Decimal(str(x)).quantize(Decimal(\"0.01\"), rounding=ROUND_HALF_EVEN)\n",
    "    return f\"{rounded:,.2f}\"\n",
    "\n",
    "\n",
    "# Quick tests\n",
    "if __name__ == \"__main__\":\n",
    "    print(fmt_money(1234.5))  # Expected: 1,234.50\n",
    "    print(fmt_money(2.5))     # Expected: 2.00 (2.5 rounds down to even)\n",
    "    print(fmt_money(3.5))     # Expected: 4.00 (3.5 rounds up to even)\n",
    "    print(fmt_money(0.004))   # Expected: 0.00\n"
   ]
  },
  {
   "cell_type": "code",
   "execution_count": 15,
   "id": "0d8202f2-2690-40cb-9ca6-6ca26d42a227",
   "metadata": {},
   "outputs": [
    {
     "name": "stdout",
     "output_type": "stream",
     "text": [
      "1,234.50\n",
      "2.50\n",
      "3.50\n"
     ]
    }
   ],
   "source": [
    "#CHATGPT CODE\n",
    "def fmt_money(x):\n",
    "    return f\"{round(x, 2):,.2f}\"\n",
    "\n",
    "print(fmt_money(1234.5))\n",
    "print(fmt_money(2.5))\n",
    "print(fmt_money(3.5))\n"
   ]
  },
  {
   "cell_type": "code",
   "execution_count": null,
   "id": "c1cdc228-9545-4e32-b0e5-359217fc4eb8",
   "metadata": {},
   "outputs": [],
   "source": []
  }
 ],
 "metadata": {
  "kernelspec": {
   "display_name": "Python [conda env:base] *",
   "language": "python",
   "name": "conda-base-py"
  },
  "language_info": {
   "codemirror_mode": {
    "name": "ipython",
    "version": 3
   },
   "file_extension": ".py",
   "mimetype": "text/x-python",
   "name": "python",
   "nbconvert_exporter": "python",
   "pygments_lexer": "ipython3",
   "version": "3.13.5"
  }
 },
 "nbformat": 4,
 "nbformat_minor": 5
}
