{
 "cells": [
  {
   "cell_type": "markdown",
   "id": "af601da6-979d-4e50-84c5-87fbb3f4093c",
   "metadata": {},
   "source": [
    "# Q1. String Normalizer & Finder\n",
    "\n",
    "Task. Write a function normalize_and_find(text: str, needle: str) -> int that: (1) trims whitespace on both ends, (2) converts to lowercase, then (3) returns the index of the first occurrence of needle using a safe search (return -1 if not found). Discuss alternatives (find vs. index), and how your choice affects error handling.\n",
    "Anchor concepts: stripping, case conversion, find/replace, string immutability.\n",
    "\n",
    "Prompt (paste verbatim)\n",
    "\n",
    "Write a Python function normalize_and_find(text, needle) that:\n",
    "\n",
    "trims whitespace on both ends of text,\n",
    "\n",
    "converts the trimmed text to lowercase,\n",
    "\n",
    "returns the index of the first occurrence of needle in the normalized text using a safe search (return -1 if not found).\n",
    "\n",
    "The function should accept two strings and return an int. Add a short demonstration / quick tests."
   ]
  },
  {
   "cell_type": "markdown",
   "id": "122fb33c-cfc7-4a76-a50f-c13a7fdc6443",
   "metadata": {},
   "source": [
    "# Critique\n",
    "\n",
    "Correctness:\n",
    "\n",
    "The function follows the requested operations: it trims text (strip()), lowercases it (lower()), lowercases needle as well, then uses .find() to return the first index or -1 if not found.\n",
    "\n",
    "Edge cases: if needle is an empty string \"\", Python's .find(\"\") returns 0, which is reasonable but should be documented as an expected behavior. If text or needle are not strings (e.g., None, numbers), the function will raise AttributeError or TypeError. The prompt specified strings, so this is acceptable, but robustness could be improved with input validation/type hints.\n",
    "\n",
    "Time & Space Complexity:\n",
    "\n",
    "Time: O(n + m) where n = len(text), m = len(needle) in worst-case for Python's substring search (practically linear). The lowercasing and strip are O(n).\n",
    "\n",
    "Space: O(n) due to creation of text.strip().lower() and needle.lower() new strings (strings are immutable).\n",
    "\n",
    "Robustness:\n",
    "\n",
    "Missing input validation for non-string inputs.\n",
    "\n",
    "Behavior with empty needle is typical of Python but could be flagged or handled explicitly depending on spec.\n",
    "\n",
    "No exception handling needed since requirements simple, but adding type checks or a docstring would help.\n",
    "\n",
    "Readability/style:\n",
    "\n",
    "Short and readable. Variable reuse (text = ...) is fine. Could improve with type hints, docstring, and explicit variable names for clarity (e.g., normalized_text). Add tests/assertions.\n",
    "\n",
    "Faithfulness to lectures:\n",
    "\n",
    "Uses strip and lower, demonstrating immutability (creates new strings). Uses .find() as safe search returning -1 rather than raising, consistent with lecture guidance about safe search vs index()."
   ]
  },
  {
   "cell_type": "code",
   "execution_count": 3,
   "id": "395f3f95-e31d-4641-accc-093ab44c4a5b",
   "metadata": {},
   "outputs": [
    {
     "name": "stdout",
     "output_type": "stream",
     "text": [
      "Q1 tests passed.\n"
     ]
    }
   ],
   "source": [
    "#IMPROVE CODE\n",
    "\n",
    "from typing import Optional\n",
    "\n",
    "def normalize_and_find(text: str, needle: str) -> int:\n",
    "   \n",
    "    if not isinstance(text, str) or not isinstance(needle, str):\n",
    "        raise TypeError(\"Both `text` and `needle` must be strings.\")\n",
    "\n",
    "    normalized = text.strip().lower()\n",
    "    needle_norm = needle.lower()\n",
    "    return normalized.find(needle_norm)\n",
    "\n",
    "\n",
    "if __name__ == \"__main__\":\n",
    "    assert normalize_and_find(\"  Hello World  \", \"world\") == 6\n",
    "\n",
    "    assert normalize_and_find(\"Alpha\", \"beta\") == -1\n",
    "\n",
    "    assert normalize_and_find(\"  Any  \", \"\") == 0\n",
    "\n",
    "    assert normalize_and_find(\"  MIXed Case  \", \"mixed\") == 0\n",
    "\n",
    "    assert normalize_and_find(\"short\", \"a very long needle\") == -1\n",
    "\n",
    "    print(\"Q1 tests passed.\")\n"
   ]
  },
  {
   "cell_type": "code",
   "execution_count": 4,
   "id": "164d9952-a15f-4e8f-906f-1af8d77055de",
   "metadata": {},
   "outputs": [
    {
     "name": "stdout",
     "output_type": "stream",
     "text": [
      "6\n",
      "-1\n"
     ]
    }
   ],
   "source": [
    "#CHATGPT CODE\n",
    "def normalize_and_find(text, needle):\n",
    "    text = text.strip().lower()\n",
    "    needle = needle.lower()\n",
    "    return text.find(needle)\n",
    "\n",
    "print(normalize_and_find(\"  Hello World  \", \"world\"))\n",
    "print(normalize_and_find(\"Alpha\", \"beta\"))\n"
   ]
  }
 ],
 "metadata": {
  "kernelspec": {
   "display_name": "Python [conda env:base] *",
   "language": "python",
   "name": "conda-base-py"
  },
  "language_info": {
   "codemirror_mode": {
    "name": "ipython",
    "version": 3
   },
   "file_extension": ".py",
   "mimetype": "text/x-python",
   "name": "python",
   "nbconvert_exporter": "python",
   "pygments_lexer": "ipython3",
   "version": "3.13.5"
  }
 },
 "nbformat": 4,
 "nbformat_minor": 5
}
