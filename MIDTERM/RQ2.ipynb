{
 "cells": [
  {
   "cell_type": "markdown",
   "id": "c1d90e15-84c6-4e0e-a5e2-019ccb7322d3",
   "metadata": {},
   "source": [
    "# Q2. Leetspeak Translator (Parametric)\n",
    "\n",
    "Task.\n",
    "Write translate(text: str, mapping: dict[str, str]) -> str that applies a mapping (e.g., { 'a':'4', 'e':'3', ... }) over lowercase letters only, leaving others unchanged. Explain why strings are immutable and show an efficient approach (list join vs repeated concatenation).\n",
    "Anchor concepts: replace, iteration strategies, efficiency, string immutability.\n",
    "\n",
    "# Prompt (paste verbatim)\n",
    "\n",
    "Write a Python function translate(text, mapping) that replaces lowercase letters based on a dictionary mapping (e.g., {'a': '4', 'e': '3', 'i': '1'}), leaving all other characters unchanged. Explain why using \"\".join() is better than repeated concatenation. Include a quick test.\n",
    "\n",
    "# Critique\n",
    "\n",
    "Correctness: Works as expected — translates characters according to mapping.\n",
    "Complexity: O(n²) due to repeated concatenation (+= creates new strings each time).\n",
    "Robustness: No validation for mapping type. Empty input works fine.\n",
    "Readability: Clear logic but inefficient. Missing type hints and docstring.\n",
    "Faithfulness: Uses iteration and mapping per lecture, but not efficient (no list join)."
   ]
  },
  {
   "cell_type": "code",
   "execution_count": 1,
   "id": "9dc0bc86-2f20-4ea2-af08-a4f4b37602e6",
   "metadata": {},
   "outputs": [
    {
     "name": "stdout",
     "output_type": "stream",
     "text": [
      "Q2 tests passed.\n"
     ]
    }
   ],
   "source": [
    "# IMPROVE CODE \n",
    "def translate(text: str, mapping: dict[str, str]) -> str:\n",
    "    \n",
    "    result = [\n",
    "        mapping.get(ch, ch)\n",
    "        for ch in text\n",
    "    ]\n",
    "    return \"\".join(result)\n",
    "\n",
    "\n",
    "if __name__ == \"__main__\":\n",
    "    assert translate(\"hello apple\", {'a':'4','e':'3','l':'1'}) == \"h311o 4pp13\"\n",
    "    assert translate(\"\", {'a':'4'}) == \"\"\n",
    "    assert translate(\"TEST\", {'t':'7'}) == \"TEST\"\n",
    "    print(\"Q2 tests passed.\")\n"
   ]
  },
  {
   "cell_type": "code",
   "execution_count": 2,
   "id": "a15e281a-9dfe-43c3-9fe0-1f79eb92f3a0",
   "metadata": {},
   "outputs": [
    {
     "name": "stdout",
     "output_type": "stream",
     "text": [
      "h311o 4pp13\n"
     ]
    }
   ],
   "source": [
    "# CHATGPT CODE\n",
    "def translate(text, mapping):\n",
    "    result = \"\"\n",
    "    for ch in text:\n",
    "        if ch in mapping:\n",
    "            result += mapping[ch]\n",
    "        else:\n",
    "            result += ch\n",
    "    return result\n",
    "\n",
    "print(translate(\"hello apple\", {'a':'4','e':'3','l':'1'}))\n"
   ]
  },
  {
   "cell_type": "code",
   "execution_count": null,
   "id": "c3f7f9a3-9093-405d-8d02-a693c710a4e5",
   "metadata": {},
   "outputs": [],
   "source": []
  }
 ],
 "metadata": {
  "kernelspec": {
   "display_name": "Python [conda env:base] *",
   "language": "python",
   "name": "conda-base-py"
  },
  "language_info": {
   "codemirror_mode": {
    "name": "ipython",
    "version": 3
   },
   "file_extension": ".py",
   "mimetype": "text/x-python",
   "name": "python",
   "nbconvert_exporter": "python",
   "pygments_lexer": "ipython3",
   "version": "3.13.5"
  }
 },
 "nbformat": 4,
 "nbformat_minor": 5
}
