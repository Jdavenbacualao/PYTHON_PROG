{
 "cells": [
  {
   "cell_type": "markdown",
   "id": "b7abe3db-7696-48f8-850d-4512b13e34cb",
   "metadata": {},
   "source": [
    "# Q8. OOP + Composition: Kennel with Dogs\n",
    "\n",
    "Task.\n",
    "Using a Dog class (name, age, breed, bark()), implement a Kennel that manages multiple dogs with add_dog(), remove_dog(), oldest_dog(), and find_by_breed().\n",
    "Anchor concepts: OOP composition, managing collections.\n",
    "\n",
    "# Prompt (paste verbatim)\n",
    "\n",
    "Create Dog and Kennel classes. Kennel holds multiple Dog objects. Add, remove, find oldest, and search by breed.\n",
    "\n",
    "# Critique\n",
    "\n",
    "Correctness: All requirements met.\n",
    "Complexity: O(n) for searches and removal.\n",
    "Robustness: No error handling for empty kennel.\n",
    "Readability: Excellent naming and organization.\n",
    "Faithfulness: Perfect example of composition."
   ]
  },
  {
   "cell_type": "code",
   "execution_count": 1,
   "id": "a781f861-639b-4c80-aed7-ed7e38455816",
   "metadata": {},
   "outputs": [
    {
     "name": "stdout",
     "output_type": "stream",
     "text": [
      "Buddy\n",
      "['Buddy']\n"
     ]
    }
   ],
   "source": [
    "#IMRPOVE CODE\n",
    "\n",
    "class Dog:\n",
    "    \"\"\"Represents a dog.\"\"\"\n",
    "    def __init__(self, name: str, age: int, breed: str):\n",
    "        self.name = name\n",
    "        self.age = age\n",
    "        self.breed = breed\n",
    "\n",
    "    def bark(self) -> str:\n",
    "        return \"Woof!\"\n",
    "\n",
    "class Kennel:\n",
    "    \"\"\"Manages a collection of Dog instances.\"\"\"\n",
    "    def __init__(self):\n",
    "        self._dogs: list[Dog] = []\n",
    "\n",
    "    def add_dog(self, dog: Dog) -> None:\n",
    "        self._dogs.append(dog)\n",
    "\n",
    "    def remove_dog(self, name: str) -> None:\n",
    "        self._dogs = [d for d in self._dogs if d.name != name]\n",
    "\n",
    "    def oldest_dog(self) -> Dog | None:\n",
    "        return max(self._dogs, key=lambda d: d.age, default=None)\n",
    "\n",
    "    def find_by_breed(self, breed: str) -> list[Dog]:\n",
    "        return [d for d in self._dogs if d.breed.lower() == breed.lower()]\n",
    "\n",
    "if __name__ == \"__main__\":\n",
    "    kennel = Kennel()\n",
    "    kennel.add_dog(Dog(\"Max\", 5, \"Labrador\"))\n",
    "    kennel.add_dog(Dog(\"Buddy\", 8, \"Beagle\"))\n",
    "    print(kennel.oldest_dog().name)\n",
    "    print([d.name for d in kennel.find_by_breed(\"Beagle\")])\n"
   ]
  },
  {
   "cell_type": "code",
   "execution_count": 2,
   "id": "3df271d0-b6a0-4027-b92e-18c5c853d682",
   "metadata": {},
   "outputs": [],
   "source": [
    "#CHATGPT CODE\n",
    "\n",
    "class Dog:\n",
    "    def __init__(self, name, age, breed):\n",
    "        self.name = name\n",
    "        self.age = age\n",
    "        self.breed = breed\n",
    "\n",
    "    def bark(self):\n",
    "        return \"Woof!\"\n",
    "\n",
    "class Kennel:\n",
    "    def __init__(self):\n",
    "        self.dogs = []\n",
    "\n",
    "    def add_dog(self, dog):\n",
    "        self.dogs.append(dog)\n",
    "\n",
    "    def remove_dog(self, name):\n",
    "        self.dogs = [d for d in self.dogs if d.name != name]\n",
    "\n",
    "    def oldest_dog(self):\n",
    "        return max(self.dogs, key=lambda d: d.age)\n",
    "\n",
    "    def find_by_breed(self, breed):\n",
    "        return [d for d in self.dogs if d.breed == breed]\n"
   ]
  },
  {
   "cell_type": "code",
   "execution_count": null,
   "id": "0c56f4ac-227f-4137-86a1-e768f4dd628f",
   "metadata": {},
   "outputs": [],
   "source": []
  }
 ],
 "metadata": {
  "kernelspec": {
   "display_name": "Python [conda env:base] *",
   "language": "python",
   "name": "conda-base-py"
  },
  "language_info": {
   "codemirror_mode": {
    "name": "ipython",
    "version": 3
   },
   "file_extension": ".py",
   "mimetype": "text/x-python",
   "name": "python",
   "nbconvert_exporter": "python",
   "pygments_lexer": "ipython3",
   "version": "3.13.5"
  }
 },
 "nbformat": 4,
 "nbformat_minor": 5
}
