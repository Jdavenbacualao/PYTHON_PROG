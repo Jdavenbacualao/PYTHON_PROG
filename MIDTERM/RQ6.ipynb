{
 "cells": [
  {
   "cell_type": "markdown",
   "id": "86593535-ec95-43a1-b123-6324e4e5340b",
   "metadata": {},
   "source": [
    "# Q6. Dice Simulation (Monte Carlo)\n",
    "\n",
    "Task.\n",
    "Write roll() -> int to simulate a fair die. Simulate 100,000 rolls to estimate the probability that the sum of two dice equals 7. Compare empirical to exact probability.\n",
    "Anchor concepts: random module, simulation, reproducibility.\n",
    "\n",
    "# Prompt (paste verbatim)\n",
    "\n",
    "Write a Python program that simulates rolling two dice 100,000 times and estimates the probability that their sum equals 7. Include comparison with the theoretical probability 1/6.\n",
    " \n",
    "# Critique\n",
    "\n",
    "Correctness: Works correctly and matches expected logic.\n",
    "Complexity: O(n) with n = number of trials (100,000).\n",
    "Robustness: Does not set a seed (reproducibility issue).\n",
    "Readability: Simple, but could include comments, seed, and result comparison.\n",
    "Faithfulness: Demonstrates random simulation per lecture."
   ]
  },
  {
   "cell_type": "code",
   "execution_count": 2,
   "id": "5d8e8480-d241-4bf2-a521-a6a5b69384c8",
   "metadata": {},
   "outputs": [
    {
     "name": "stdout",
     "output_type": "stream",
     "text": [
      "Estimated probability: 0.1646\n",
      "Theoretical probability: 0.1667\n"
     ]
    }
   ],
   "source": [
    "#IMRPOVE CODE\n",
    "import random\n",
    "\n",
    "def roll() -> int:\n",
    "    \"\"\"Return a random integer between 1 and 6 inclusive.\"\"\"\n",
    "    return random.randint(1, 6)\n",
    "\n",
    "def simulate_dice_sum(target: int = 7, trials: int = 100_000) -> float:\n",
    "    \"\"\"\n",
    "    Simulate rolling two dice many times to estimate the probability\n",
    "    that their sum equals `target`.\n",
    "    \"\"\"\n",
    "    random.seed(42)  # reproducibility\n",
    "    count = sum(1 for _ in range(trials) if roll() + roll() == target)\n",
    "    return count / trials\n",
    "\n",
    "if __name__ == \"__main__\":\n",
    "    estimated = simulate_dice_sum()\n",
    "    theoretical = 6 / 36  # 1/6\n",
    "    print(f\"Estimated probability: {estimated:.4f}\")\n",
    "    print(f\"Theoretical probability: {theoretical:.4f}\")\n"
   ]
  },
  {
   "cell_type": "code",
   "execution_count": 3,
   "id": "daa1da5a-4387-4fcd-a6e7-fd95e74a8365",
   "metadata": {},
   "outputs": [
    {
     "name": "stdout",
     "output_type": "stream",
     "text": [
      "0.16543\n"
     ]
    }
   ],
   "source": [
    "# CHATGPT CODE\n",
    "import random\n",
    "\n",
    "def roll():\n",
    "    return random.randint(1,6)\n",
    "\n",
    "def simulate():\n",
    "    count = 0\n",
    "    for _ in range(100000):\n",
    "        if roll() + roll() == 7:\n",
    "            count += 1\n",
    "    print(count / 100000)\n",
    "\n",
    "simulate()\n"
   ]
  },
  {
   "cell_type": "code",
   "execution_count": null,
   "id": "ede30733-ef6e-4b2b-8ae2-13191d17dd75",
   "metadata": {},
   "outputs": [],
   "source": []
  }
 ],
 "metadata": {
  "kernelspec": {
   "display_name": "Python [conda env:base] *",
   "language": "python",
   "name": "conda-base-py"
  },
  "language_info": {
   "codemirror_mode": {
    "name": "ipython",
    "version": 3
   },
   "file_extension": ".py",
   "mimetype": "text/x-python",
   "name": "python",
   "nbconvert_exporter": "python",
   "pygments_lexer": "ipython3",
   "version": "3.13.5"
  }
 },
 "nbformat": 4,
 "nbformat_minor": 5
}
