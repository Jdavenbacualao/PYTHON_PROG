{
 "cells": [
  {
   "cell_type": "markdown",
   "id": "1275b769-b534-421c-8611-f5948e919279",
   "metadata": {},
   "source": [
    "# Q5. Password Policy Checker\n",
    "\n",
    "Task.\n",
    "Implement check_password(pw: str) -> dict to verify rules: length ≥ 10, one uppercase, one lowercase, one digit, one symbol (!@#$%^&*), and no spaces.\n",
    "Anchor concepts: conditionals, loops, logical operators.\n",
    "\n",
    "# Prompt (paste verbatim)\n",
    "\n",
    "Write check_password(pw) that checks multiple password rules (length, uppercase, lowercase, digit, symbol, no spaces) and returns dict results. Include a loop that prompts until valid password entered (quit with Q/q).\n",
    "# Critique\n",
    "\n",
    "Correctness: Fully correct.\n",
    "Complexity: O(n) per check.\n",
    "Robustness: No input validation for non-string input.\n",
    "Readability: Clean dictionary structure.\n",
    "Faithfulness: Matches lecture pattern on validation and loops."
   ]
  },
  {
   "cell_type": "code",
   "execution_count": 2,
   "id": "a2fcb292-9f1f-4392-8b00-75f675db1d7d",
   "metadata": {},
   "outputs": [
    {
     "name": "stdin",
     "output_type": "stream",
     "text": [
      "Enter password (Q to quit):  Q\n"
     ]
    }
   ],
   "source": [
    "#IMPROVE CODE\n",
    "def check_password(pw: str) -> dict:\n",
    "    \"\"\"\n",
    "    Check password strength and return a dictionary of results.\n",
    "    \"\"\"\n",
    "    if not isinstance(pw, str):\n",
    "        raise TypeError(\"Password must be a string.\")\n",
    "\n",
    "    rules = {\n",
    "        \"length\": len(pw) >= 10,\n",
    "        \"uppercase\": any(c.isupper() for c in pw),\n",
    "        \"lowercase\": any(c.islower() for c in pw),\n",
    "        \"digit\": any(c.isdigit() for c in pw),\n",
    "        \"symbol\": any(c in \"!@#$%^&*\" for c in pw),\n",
    "        \"no_space\": \" \" not in pw\n",
    "    }\n",
    "    rules[\"valid\"] = all(rules.values())\n",
    "    return rules\n",
    "\n",
    "\n",
    "if __name__ == \"__main__\":\n",
    "    while True:\n",
    "        pw = input(\"Enter password (Q to quit): \")\n",
    "        if pw.lower() == \"q\":\n",
    "            break\n",
    "        result = check_password(pw)\n",
    "        print(result)\n",
    "        if result[\"valid\"]:\n",
    "            print(\"Password accepted.\")\n",
    "            break\n"
   ]
  },
  {
   "cell_type": "code",
   "execution_count": 1,
   "id": "07704d38-509b-42cd-9954-f62c86d7f21d",
   "metadata": {},
   "outputs": [],
   "source": [
    "#CHATGPT CODE\n",
    "def check_password(pw):\n",
    "    rules = {\n",
    "        \"length\": len(pw) >= 10,\n",
    "        \"upper\": any(c.isupper() for c in pw),\n",
    "        \"lower\": any(c.islower() for c in pw),\n",
    "        \"digit\": any(c.isdigit() for c in pw),\n",
    "        \"symbol\": any(c in \"!@#$%^&*\" for c in pw),\n",
    "        \"space\": \" \" not in pw\n",
    "    }\n",
    "    rules[\"valid\"] = all(rules.values())\n",
    "    return rules\n"
   ]
  },
  {
   "cell_type": "code",
   "execution_count": null,
   "id": "e763c878-777c-44c8-bb43-d51deb2cbdac",
   "metadata": {},
   "outputs": [],
   "source": []
  }
 ],
 "metadata": {
  "kernelspec": {
   "display_name": "Python [conda env:base] *",
   "language": "python",
   "name": "conda-base-py"
  },
  "language_info": {
   "codemirror_mode": {
    "name": "ipython",
    "version": 3
   },
   "file_extension": ".py",
   "mimetype": "text/x-python",
   "name": "python",
   "nbconvert_exporter": "python",
   "pygments_lexer": "ipython3",
   "version": "3.13.5"
  }
 },
 "nbformat": 4,
 "nbformat_minor": 5
}
