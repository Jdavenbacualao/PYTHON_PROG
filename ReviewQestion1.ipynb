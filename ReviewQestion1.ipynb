{
 "cells": [
  {
   "cell_type": "markdown",
   "id": "842c4b32-f1c9-4ef2-908e-ee29499fc5b2",
   "metadata": {},
   "source": [
    "# Review Question"
   ]
  },
  {
   "cell_type": "code",
   "execution_count": 4,
   "id": "5244ed5f-8a7a-4e46-889c-58658cf742b2",
   "metadata": {},
   "outputs": [
    {
     "name": "stdout",
     "output_type": "stream",
     "text": [
      "5\n"
     ]
    }
   ],
   "source": [
    "a = \"daven\"\n",
    "print ( len (a) );"
   ]
  },
  {
   "cell_type": "code",
   "execution_count": null,
   "id": "23f84c15-06be-49ab-97c4-ec2289d1065c",
   "metadata": {},
   "outputs": [],
   "source": [
    "a = \"daven\"\n",
    "b = \"baculao\"\n",
    "c = a + b\n",
    "print( c );"
   ]
  },
  {
   "cell_type": "code",
   "execution_count": 6,
   "id": "26051c8f-5d57-4f27-bbab-5989deb0b2f0",
   "metadata": {},
   "outputs": [
    {
     "name": "stdout",
     "output_type": "stream",
     "text": [
      "daven daniel\n"
     ]
    }
   ],
   "source": [
    "a = \"daven\"\n",
    "b = \"daniel\"\n",
    "c = a + \" \" + b\n",
    "print ( c );"
   ]
  },
  {
   "cell_type": "code",
   "execution_count": 10,
   "id": "4cf4f487-7946-47b7-a670-732b247c2773",
   "metadata": {},
   "outputs": [
    {
     "name": "stdout",
     "output_type": "stream",
     "text": [
      " fox \n"
     ]
    }
   ],
   "source": [
    "a = \" The quick brown fox jumped over the lazy dog.#1234567890!\"\n",
    "print (a [ 16:21]);"
   ]
  },
  {
   "cell_type": "code",
   "execution_count": null,
   "id": "32eedf4b-c6fa-4402-81a0-8e8a2674241d",
   "metadata": {},
   "outputs": [],
   "source": []
  }
 ],
 "metadata": {
  "kernelspec": {
   "display_name": "Python 3 (ipykernel)",
   "language": "python",
   "name": "python3"
  },
  "language_info": {
   "codemirror_mode": {
    "name": "ipython",
    "version": 3
   },
   "file_extension": ".py",
   "mimetype": "text/x-python",
   "name": "python",
   "nbconvert_exporter": "python",
   "pygments_lexer": "ipython3",
   "version": "3.13.5"
  }
 },
 "nbformat": 4,
 "nbformat_minor": 5
}
