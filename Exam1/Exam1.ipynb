{
 "cells": [
  {
   "cell_type": "markdown",
   "id": "9155abf2-8b32-481d-b8ba-a98ee9ef9e44",
   "metadata": {},
   "source": [
    "# 1st long term Exam Date: 09/10/25\n"
   ]
  },
  {
   "cell_type": "markdown",
   "id": "d51dc854-9557-404e-bca9-363b68b759d9",
   "metadata": {},
   "source": [
    "# Baculao, Daven Daniel J. ID: 23743578"
   ]
  },
  {
   "cell_type": "markdown",
   "id": "a5ab35cd-d539-4e1b-877b-57a455f555a9",
   "metadata": {},
   "source": [
    "# Q1"
   ]
  },
  {
   "cell_type": "code",
   "execution_count": 3,
   "id": "c1b2766b-3d1e-4460-92e3-22b88c26013e",
   "metadata": {
    "scrolled": true
   },
   "outputs": [
    {
     "name": "stdin",
     "output_type": "stream",
     "text": [
      "Enter your name: Daven\n"
     ]
    },
    {
     "name": "stdout",
     "output_type": "stream",
     "text": [
      "Hello DavenDaven\n"
     ]
    }
   ],
   "source": [
    "prompt = input (\"Enter your name:\")\n",
    "print (\"Hello Daven\"+ prompt)"
   ]
  },
  {
   "cell_type": "markdown",
   "id": "69037c9b-695e-4f7b-9d9b-fab4e5de2021",
   "metadata": {},
   "source": [
    "# Q2"
   ]
  },
  {
   "cell_type": "code",
   "execution_count": 4,
   "id": "fef59917-76ea-4ab2-9bc6-0b36f19d0f14",
   "metadata": {},
   "outputs": [
    {
     "name": "stdin",
     "output_type": "stream",
     "text": [
      "Enter numbers: 5\n"
     ]
    },
    {
     "name": "stdout",
     "output_type": "stream",
     "text": [
      " the sum is : 3.0\n"
     ]
    }
   ],
   "source": [
    "n = int (input(\"Enter numbers:\"))\n",
    "r = (n+1)/2\n",
    "print (f\" the sum is : {r}\")"
   ]
  },
  {
   "cell_type": "markdown",
   "id": "73f525fb-89c9-4060-a0f1-97e4a04b973b",
   "metadata": {},
   "source": [
    "# Q5"
   ]
  },
  {
   "cell_type": "code",
   "execution_count": 6,
   "id": "2ad57348-fc70-488f-b9d8-1bda6f022941",
   "metadata": {},
   "outputs": [],
   "source": [
    "def triangle (a,b ):\n",
    "    return (a**2 + b**2)**.5\n",
    "    a= float(input (\"Enter  'a' side of a triangle\"))\n",
    "    b= float(input (\"Enter 'b' side of a triangle \"))\n",
    "    print (f\" The result is : {triangle(a,b)}\")"
   ]
  },
  {
   "cell_type": "code",
   "execution_count": null,
   "id": "a452946c-e6f4-4938-b05a-2068fd51cfe0",
   "metadata": {},
   "outputs": [],
   "source": []
  },
  {
   "cell_type": "code",
   "execution_count": null,
   "id": "df293725-c0f6-482d-9978-51a5d6b082d4",
   "metadata": {},
   "outputs": [],
   "source": []
  }
 ],
 "metadata": {
  "kernelspec": {
   "display_name": "Python 3 (ipykernel)",
   "language": "python",
   "name": "python3"
  },
  "language_info": {
   "codemirror_mode": {
    "name": "ipython",
    "version": 3
   },
   "file_extension": ".py",
   "mimetype": "text/x-python",
   "name": "python",
   "nbconvert_exporter": "python",
   "pygments_lexer": "ipython3",
   "version": "3.13.5"
  }
 },
 "nbformat": 4,
 "nbformat_minor": 5
}
