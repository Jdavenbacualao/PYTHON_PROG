{
 "cells": [
  {
   "cell_type": "markdown",
   "id": "fb9b4cc7-4780-4850-a545-e93fc4cc9b22",
   "metadata": {},
   "source": [
    "# CHALLENGE QUESTION MODEL A FARM"
   ]
  },
  {
   "cell_type": "code",
   "execution_count": 1,
   "id": "662daf18-2672-4717-a364-647725104dc9",
   "metadata": {},
   "outputs": [
    {
     "name": "stdout",
     "output_type": "stream",
     "text": [
      "Buddy says Woof!\n",
      "Buddy is eating food.\n",
      "Buddy is fetching the ball!\n",
      "\n",
      "Whiskers says Meow!\n",
      "Whiskers is sleeping peacefully.\n",
      "Whiskers is scratching the furniture!\n",
      "\n",
      "Donald says Quack!\n",
      "Donald is eating food.\n",
      "Donald is swimming in the pond.\n"
     ]
    }
   ],
   "source": [
    "class Animal:\n",
    "    def __init__(self, name, sound):\n",
    "        self.name = name\n",
    "        self.sound = sound\n",
    "\n",
    "    def eat(self):\n",
    "        print(f\"{self.name} is eating food.\")\n",
    "\n",
    "    def sleep(self):\n",
    "        print(f\"{self.name} is sleeping peacefully.\")\n",
    "\n",
    "    def make_sound(self):\n",
    "        print(f\"{self.name} says {self.sound}!\")\n",
    "\n",
    "\n",
    "class Dog(Animal):\n",
    "    def __init__(self, name):\n",
    "        super().__init__(name, \"Woof\")\n",
    "\n",
    "    def fetch(self):\n",
    "        print(f\"{self.name} is fetching the ball!\")\n",
    "\n",
    "\n",
    "class Cat(Animal):\n",
    "    def __init__(self, name):\n",
    "        super().__init__(name, \"Meow\")\n",
    "\n",
    "    def scratch(self):\n",
    "        print(f\"{self.name} is scratching the furniture!\")\n",
    "\n",
    "\n",
    "class Duck(Animal):\n",
    "    def __init__(self, name):\n",
    "        super().__init__(name, \"Quack\")\n",
    "\n",
    "    def swim(self):\n",
    "        print(f\"{self.name} is swimming in the pond.\")\n",
    "\n",
    "\n",
    "# Create objects\n",
    "buddy = Dog(\"Buddy\")\n",
    "kitty = Cat(\"Whiskers\")\n",
    "donald = Duck(\"Donald\")\n",
    "\n",
    "# Dog actions\n",
    "buddy.make_sound()\n",
    "buddy.eat()\n",
    "buddy.fetch()\n",
    "\n",
    "print()\n",
    "\n",
    "# Cat actions\n",
    "kitty.make_sound()\n",
    "kitty.sleep()\n",
    "kitty.scratch()\n",
    "\n",
    "print()\n",
    "\n",
    "# Duck actions\n",
    "donald.make_sound()\n",
    "donald.eat()\n",
    "donald.swim()\n"
   ]
  },
  {
   "cell_type": "markdown",
   "id": "55854a54-9497-4747-93c5-8c9c9e2113be",
   "metadata": {},
   "source": [
    "# RQ1"
   ]
  },
  {
   "cell_type": "code",
   "execution_count": 2,
   "id": "027ed28e-f31b-43f9-9fc8-3b3fac50f321",
   "metadata": {},
   "outputs": [
    {
     "name": "stdout",
     "output_type": "stream",
     "text": [
      "Luna is 3 years old and has white fur.\n"
     ]
    }
   ],
   "source": [
    "class Cat:\n",
    "    def __init__(self, name, age, fur_color):\n",
    "        self.name = name\n",
    "        self.age = age\n",
    "        self.fur_color = fur_color\n",
    "\n",
    "# Create an object\n",
    "luna = Cat(\"Luna\", 3, \"white\")\n",
    "\n",
    "# Display information\n",
    "print(f\"{luna.name} is {luna.age} years old and has {luna.fur_color} fur.\")\n"
   ]
  },
  {
   "cell_type": "code",
   "execution_count": 3,
   "id": "266f8637-b419-4e3e-94b0-157d488779e6",
   "metadata": {},
   "outputs": [
    {
     "name": "stdout",
     "output_type": "stream",
     "text": [
      "The black Yamaha bike has 15,000 km mileage.\n",
      "The blue Honda bike has 22,000 km mileage.\n"
     ]
    }
   ],
   "source": [
    "class Bike:\n",
    "    def __init__(self, brand, color, mileage):\n",
    "        self.brand = brand\n",
    "        self.color = color\n",
    "        self.mileage = mileage\n",
    "\n",
    "yamaha = Bike(\"Yamaha\", \"black\", 15000)\n",
    "honda = Bike(\"Honda\", \"blue\", 22000)\n",
    "\n",
    "print(f\"The {yamaha.color} {yamaha.brand} bike has {yamaha.mileage:,} km mileage.\")\n",
    "print(f\"The {honda.color} {honda.brand} bike has {honda.mileage:,} km mileage.\")\n"
   ]
  },
  {
   "cell_type": "code",
   "execution_count": 4,
   "id": "6f623847-51cc-480b-a291-3bd56be1f535",
   "metadata": {},
   "outputs": [
    {
     "name": "stdout",
     "output_type": "stream",
     "text": [
      "You rode 50 km. Remaining fuel: 5.0 liters.\n",
      "The red motorcycle now has 5050 km mileage.\n"
     ]
    }
   ],
   "source": [
    "class Motorcycle:\n",
    "    def __init__(self, color, mileage, fuel):\n",
    "        self.color = color\n",
    "        self.mileage = mileage\n",
    "        self.fuel = fuel\n",
    "\n",
    "    def ride(self, distance):\n",
    "        if self.fuel <= 0:\n",
    "            print(\"Out of fuel! Please refuel before riding.\")\n",
    "        else:\n",
    "            self.mileage += distance\n",
    "            self.fuel -= distance * 0.1\n",
    "            print(f\"You rode {distance} km. Remaining fuel: {self.fuel:.1f} liters.\")\n",
    "\n",
    "my_bike = Motorcycle(\"red\", 5000, 10)\n",
    "\n",
    "my_bike.ride(50)\n",
    "print(f\"The {my_bike.color} motorcycle now has {my_bike.mileage} km mileage.\")\n"
   ]
  },
  {
   "cell_type": "markdown",
   "id": "3f017efa-e6ea-4b6a-91e2-3d970cad9afe",
   "metadata": {},
   "source": [
    "# RQ2"
   ]
  },
  {
   "cell_type": "code",
   "execution_count": 5,
   "id": "6f8e6634-d1bd-48d0-bf3f-69c06dc13d8a",
   "metadata": {},
   "outputs": [
    {
     "name": "stdout",
     "output_type": "stream",
     "text": [
      "Luna is 3 years old\n",
      "Luna softly says meow\n"
     ]
    }
   ],
   "source": [
    "class Cat:\n",
    "    \n",
    "    def __init__(self, name, age):\n",
    "        self.name = name\n",
    "        self.age = age\n",
    "\n",
    "    def __str__(self):\n",
    "        return f\"{self.name} is {self.age} years old\"\n",
    "\n",
    "    def speak(self, sound):\n",
    "        return f\"{self.name} softly says {sound}\"\n",
    "\n",
    "kitty = Cat(\"Luna\", 3)\n",
    "print(kitty)\n",
    "print(kitty.speak(\"meow\"))\n"
   ]
  },
  {
   "cell_type": "code",
   "execution_count": null,
   "id": "eb566fb1-7ca0-42d2-b3e2-06e94f5895b6",
   "metadata": {},
   "outputs": [],
   "source": []
  }
 ],
 "metadata": {
  "kernelspec": {
   "display_name": "Python [conda env:base] *",
   "language": "python",
   "name": "conda-base-py"
  },
  "language_info": {
   "codemirror_mode": {
    "name": "ipython",
    "version": 3
   },
   "file_extension": ".py",
   "mimetype": "text/x-python",
   "name": "python",
   "nbconvert_exporter": "python",
   "pygments_lexer": "ipython3",
   "version": "3.13.5"
  }
 },
 "nbformat": 4,
 "nbformat_minor": 5
}
