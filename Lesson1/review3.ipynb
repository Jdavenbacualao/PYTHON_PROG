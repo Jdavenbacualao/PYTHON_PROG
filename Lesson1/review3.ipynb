{
 "cells": [
  {
   "cell_type": "code",
   "execution_count": 11,
   "id": "a9c9c5a4-679a-4cd0-81b3-99ed876ed395",
   "metadata": {},
   "outputs": [
    {
     "name": "stdin",
     "output_type": "stream",
     "text": [
      "Are you okey? Yes, I'm Okay\n"
     ]
    },
    {
     "name": "stdout",
     "output_type": "stream",
     "text": [
      "You said: Are you okey?\n"
     ]
    }
   ],
   "source": [
    "script = \"Are you okey?\"\n",
    "user = input(script)\n",
    "print(\"You said:\", script)"
   ]
  },
  {
   "cell_type": "code",
   "execution_count": 14,
   "id": "090964b0-4be3-4c00-9501-c497579609fb",
   "metadata": {},
   "outputs": [
    {
     "name": "stdin",
     "output_type": "stream",
     "text": [
      "naa kay kalamay? YEZZIR\n"
     ]
    },
    {
     "name": "stdout",
     "output_type": "stream",
     "text": [
      "You said: yezzir\n"
     ]
    }
   ],
   "source": [
    "script = \"naa kay kalamay?\"\n",
    "user = input(script)\n",
    "user.lower()\n",
    "print(\"You said:\", user)"
   ]
  },
  {
   "cell_type": "code",
   "execution_count": 16,
   "id": "ad6d1c23-7012-4b02-a95d-092d8e62cdf8",
   "metadata": {},
   "outputs": [
    {
     "name": "stdin",
     "output_type": "stream",
     "text": [
      "Enter any word:  moew\n"
     ]
    },
    {
     "name": "stdout",
     "output_type": "stream",
     "text": [
      "The length is: 4\n"
     ]
    }
   ],
   "source": [
    "script = \"Enter any word: \"\n",
    "user = input(script)\n",
    "print(\"The length is:\",(len (user)))\n"
   ]
  },
  {
   "cell_type": "code",
   "execution_count": null,
   "id": "641ce885-e6ad-4401-b182-b3b7702fc223",
   "metadata": {},
   "outputs": [],
   "source": []
  }
 ],
 "metadata": {
  "kernelspec": {
   "display_name": "Python 3 (ipykernel)",
   "language": "python",
   "name": "python3"
  },
  "language_info": {
   "codemirror_mode": {
    "name": "ipython",
    "version": 3
   },
   "file_extension": ".py",
   "mimetype": "text/x-python",
   "name": "python",
   "nbconvert_exporter": "python",
   "pygments_lexer": "ipython3",
   "version": "3.13.5"
  }
 },
 "nbformat": 4,
 "nbformat_minor": 5
}
