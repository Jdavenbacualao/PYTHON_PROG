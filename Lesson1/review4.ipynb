{
 "cells": [
  {
   "cell_type": "code",
   "execution_count": 7,
   "id": "9a90c98c-1c33-4853-ae9c-f2e75665d9ef",
   "metadata": {},
   "outputs": [
    {
     "name": "stdin",
     "output_type": "stream",
     "text": [
      "Tell me your name:  daven\n"
     ]
    },
    {
     "name": "stdout",
     "output_type": "stream",
     "text": [
      "Your name starts with D\n"
     ]
    }
   ],
   "source": [
    "script = \"Tell me your name: \"\n",
    "user = input(script)\n",
    "user = user[0:1]\n",
    "\n",
    "print(\"Your name starts with\", user.upper())"
   ]
  },
  {
   "cell_type": "code",
   "execution_count": null,
   "id": "fc35ecfd-6401-4ca3-a71b-cd6dc9ca23aa",
   "metadata": {},
   "outputs": [],
   "source": []
  }
 ],
 "metadata": {
  "kernelspec": {
   "display_name": "Python 3 (ipykernel)",
   "language": "python",
   "name": "python3"
  },
  "language_info": {
   "codemirror_mode": {
    "name": "ipython",
    "version": 3
   },
   "file_extension": ".py",
   "mimetype": "text/x-python",
   "name": "python",
   "nbconvert_exporter": "python",
   "pygments_lexer": "ipython3",
   "version": "3.13.5"
  }
 },
 "nbformat": 4,
 "nbformat_minor": 5
}
