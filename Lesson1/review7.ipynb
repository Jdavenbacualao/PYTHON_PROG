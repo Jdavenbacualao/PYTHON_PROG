{
 "cells": [
  {
   "cell_type": "code",
   "execution_count": 1,
   "id": "4362ff21-1405-4322-9260-653fb07c79a8",
   "metadata": {},
   "outputs": [
    {
     "name": "stdin",
     "output_type": "stream",
     "text": [
      "Enter some text:  I like to eat eggs and spam\n"
     ]
    },
    {
     "name": "stdout",
     "output_type": "stream",
     "text": [
      "Leetspeak:  I 1ik3 70 347 3gg5 4nd 5p4m\n"
     ]
    }
   ],
   "source": [
    "prompt = \"Enter some text: \"\n",
    "userInput = input(prompt)\n",
    "\n",
    "userInput = userInput.replace(\"a\", \"4\")\n",
    "userInput = userInput.replace(\"b\", \"8\")\n",
    "userInput = userInput.replace(\"e\", \"3\")\n",
    "userInput = userInput.replace(\"l\", \"1\")\n",
    "userInput = userInput.replace(\"o\", \"0\")\n",
    "userInput = userInput.replace(\"s\", \"5\")\n",
    "userInput = userInput.replace(\"t\", \"7\")\n",
    "\n",
    "print(\"Leetspeak: \", userInput)"
   ]
  },
  {
   "cell_type": "code",
   "execution_count": null,
   "id": "cecb3dcd-657d-4905-966e-3cf3f3447685",
   "metadata": {},
   "outputs": [],
   "source": []
  }
 ],
 "metadata": {
  "kernelspec": {
   "display_name": "Python 3 (ipykernel)",
   "language": "python",
   "name": "python3"
  },
  "language_info": {
   "codemirror_mode": {
    "name": "ipython",
    "version": 3
   },
   "file_extension": ".py",
   "mimetype": "text/x-python",
   "name": "python",
   "nbconvert_exporter": "python",
   "pygments_lexer": "ipython3",
   "version": "3.13.5"
  }
 },
 "nbformat": 4,
 "nbformat_minor": 5
}
