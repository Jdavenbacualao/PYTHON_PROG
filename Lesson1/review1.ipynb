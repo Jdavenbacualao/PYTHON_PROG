{
 "cells": [
  {
   "cell_type": "code",
   "execution_count": 6,
   "id": "19de07dd-1680-42ee-9d02-0db08806c90c",
   "metadata": {
    "scrolled": true
   },
   "outputs": [
    {
     "name": "stdout",
     "output_type": "stream",
     "text": [
      "5\n"
     ]
    }
   ],
   "source": [
    "a = \"daven\"\n",
    "print ( len (a) );"
   ]
  },
  {
   "cell_type": "code",
   "execution_count": 4,
   "id": "eedd00c5-6096-446e-84b7-0d731266bc28",
   "metadata": {},
   "outputs": [
    {
     "name": "stdout",
     "output_type": "stream",
     "text": [
      "davenbaculao\n"
     ]
    }
   ],
   "source": [
    "a = \"daven\"\n",
    "b = \"baculao\"\n",
    "c = a + b\n",
    "print( c );"
   ]
  },
  {
   "cell_type": "code",
   "execution_count": 3,
   "id": "ea076aea-c4a9-47e1-8d5f-22b1681a71d6",
   "metadata": {},
   "outputs": [
    {
     "name": "stdout",
     "output_type": "stream",
     "text": [
      "daven daniel\n"
     ]
    }
   ],
   "source": [
    "a = \"daven\"\n",
    "b = \"daniel\"\n",
    "c = a + \" \" + b\n",
    "print ( c );"
   ]
  },
  {
   "cell_type": "code",
   "execution_count": 2,
   "id": "d02e9af1-6a79-4fff-8bf5-7b5fd987f766",
   "metadata": {},
   "outputs": [
    {
     "name": "stdout",
     "output_type": "stream",
     "text": [
      " fox \n"
     ]
    }
   ],
   "source": [
    "a = \" The quick brown fox jumped over the lazy dog.#1234567890!\"\n",
    "print (a [ 16:21]);\n"
   ]
  }
 ],
 "metadata": {
  "kernelspec": {
   "display_name": "Python 3 (ipykernel)",
   "language": "python",
   "name": "python3"
  },
  "language_info": {
   "codemirror_mode": {
    "name": "ipython",
    "version": 3
   },
   "file_extension": ".py",
   "mimetype": "text/x-python",
   "name": "python",
   "nbconvert_exporter": "python",
   "pygments_lexer": "ipython3",
   "version": "3.13.5"
  }
 },
 "nbformat": 4,
 "nbformat_minor": 5
}
