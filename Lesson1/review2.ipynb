{
 "cells": [
  {
   "cell_type": "code",
   "execution_count": 1,
   "id": "8c330076-4194-4b11-9e82-f93bb784d818",
   "metadata": {},
   "outputs": [
    {
     "name": "stdout",
     "output_type": "stream",
     "text": [
      "animal, badger, honey bee, honeybagder\n"
     ]
    }
   ],
   "source": [
    "a = \"ANIMAL, BADGER, HONEY BEE, HONEYBAGDER\"\n",
    "new = a.lower()\n",
    "print(new)"
   ]
  },
  {
   "cell_type": "code",
   "execution_count": 2,
   "id": "0d528258-fe96-4710-af31-9d39ae2b21ad",
   "metadata": {},
   "outputs": [
    {
     "name": "stdout",
     "output_type": "stream",
     "text": [
      "ANIMAL, BADGER, HONEY BEE, HONEYBADGER\n"
     ]
    }
   ],
   "source": [
    "b = \"animal, badger, honey bee, honeybadger\"\n",
    "new = b.upper()\n",
    "print(new)"
   ]
  },
  {
   "cell_type": "code",
   "execution_count": 7,
   "id": "63eda96e-8507-4ffc-b6de-9c87ff3a0617",
   "metadata": {},
   "outputs": [
    {
     "name": "stdout",
     "output_type": "stream",
     "text": [
      "filet mignon\n",
      "brisket\n"
     ]
    }
   ],
   "source": [
    "string1 =\"       filet mignon\"\n",
    "string2 =\"brisket     \"\n",
    "print(string1.lstrip())\n",
    "print(string2.rstrip())"
   ]
  },
  {
   "cell_type": "code",
   "execution_count": 10,
   "id": "a9e05fb5-84c8-49fd-865e-bb78707d0375",
   "metadata": {},
   "outputs": [
    {
     "name": "stdout",
     "output_type": "stream",
     "text": [
      "True\n",
      "False\n"
     ]
    }
   ],
   "source": [
    "string1 =\"becomes\"\n",
    "string2 =\"Becomes\"\n",
    "print(string1.startswith(\"be\"))\n",
    "print(string2.startswith(\"be\"))"
   ]
  },
  {
   "cell_type": "code",
   "execution_count": 12,
   "id": "b33a7d90-5c4a-47ea-b145-533ceb7c0455",
   "metadata": {},
   "outputs": [
    {
     "name": "stdout",
     "output_type": "stream",
     "text": [
      "True\n",
      "True\n"
     ]
    }
   ],
   "source": [
    "string1 =\"becomes\"\n",
    "string2 =\"Becomes\"\n",
    "\n",
    "replace =\"b\" + string2[1:]\n",
    "\n",
    "print(string1.startswith(\"be\"))\n",
    "print(replace.startswith(\"be\"))"
   ]
  }
 ],
 "metadata": {
  "kernelspec": {
   "display_name": "Python 3 (ipykernel)",
   "language": "python",
   "name": "python3"
  },
  "language_info": {
   "codemirror_mode": {
    "name": "ipython",
    "version": 3
   },
   "file_extension": ".py",
   "mimetype": "text/x-python",
   "name": "python",
   "nbconvert_exporter": "python",
   "pygments_lexer": "ipython3",
   "version": "3.13.5"
  }
 },
 "nbformat": 4,
 "nbformat_minor": 5
}
