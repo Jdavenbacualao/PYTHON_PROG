{
 "cells": [
  {
   "cell_type": "code",
   "execution_count": 2,
   "id": "5271cee8-1b1f-4f46-8b63-49154cb81f7a",
   "metadata": {},
   "outputs": [
    {
     "name": "stdout",
     "output_type": "stream",
     "text": [
      "In AAAa 'a' is found at 4\n"
     ]
    }
   ],
   "source": [
    " \n",
    "string = \"AAAa\"\n",
    "\n",
    "print(\"In \" + string + \" 'a' is found at\",string.find(\"a\")+1)"
   ]
  },
  {
   "cell_type": "code",
   "execution_count": 3,
   "id": "23503cd1-562f-48e3-8549-d0166ad84947",
   "metadata": {},
   "outputs": [
    {
     "name": "stdout",
     "output_type": "stream",
     "text": [
      "Somebody yaid yomething to Samantha\n"
     ]
    }
   ],
   "source": [
    "string = \"Somebody said something to Samantha\"\n",
    "\n",
    "\n",
    "print(string.replace(\"s\", \"y\"))"
   ]
  },
  {
   "cell_type": "code",
   "execution_count": 5,
   "id": "fb0b0756-b1ea-4b67-96fa-88323387f6a9",
   "metadata": {},
   "outputs": [
    {
     "name": "stdin",
     "output_type": "stream",
     "text": [
      "What letter you want to find in 'Daven Daniel Baculao' 5\n"
     ]
    },
    {
     "data": {
      "text/plain": [
       "-1"
      ]
     },
     "execution_count": 5,
     "metadata": {},
     "output_type": "execute_result"
    }
   ],
   "source": [
    "prompt = \"What letter you want to find in \"\n",
    "prompt2 = \"'Daven Daniel Baculao'\"\n",
    "\n",
    "question = prompt + prompt2\n",
    "userInput = input(question)\n",
    "\n",
    "prompt.find(userInput)"
   ]
  },
  {
   "cell_type": "code",
   "execution_count": null,
   "id": "878deffa-73ec-490d-9035-7fcd0acdde7a",
   "metadata": {},
   "outputs": [],
   "source": []
  }
 ],
 "metadata": {
  "kernelspec": {
   "display_name": "Python 3 (ipykernel)",
   "language": "python",
   "name": "python3"
  },
  "language_info": {
   "codemirror_mode": {
    "name": "ipython",
    "version": 3
   },
   "file_extension": ".py",
   "mimetype": "text/x-python",
   "name": "python",
   "nbconvert_exporter": "python",
   "pygments_lexer": "ipython3",
   "version": "3.13.5"
  }
 },
 "nbformat": 4,
 "nbformat_minor": 5
}
