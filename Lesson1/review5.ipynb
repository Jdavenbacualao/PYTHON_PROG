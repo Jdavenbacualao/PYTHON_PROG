{
 "cells": [
  {
   "cell_type": "code",
   "execution_count": null,
   "id": "8a0a8b42-6863-4bed-8909-30310525927f",
   "metadata": {},
   "outputs": [],
   "source": [
    "a = '12.5'\n",
    "b = int(a)\n",
    "\n",
    "c = b * 2\n",
    "print(c)"
   ]
  },
  {
   "cell_type": "code",
   "execution_count": null,
   "id": "e266e2de-c6fd-4534-bb04-18204459eece",
   "metadata": {},
   "outputs": [],
   "source": [
    "a = '12.5'\n",
    "b = float(a)\n",
    "\n",
    "c = b * 2\n",
    "print(c)"
   ]
  },
  {
   "cell_type": "code",
   "execution_count": 3,
   "id": "768f528a-966b-449b-96cf-4170182cab0e",
   "metadata": {},
   "outputs": [
    {
     "name": "stdout",
     "output_type": "stream",
     "text": [
      "Mark has 12 apples\n"
     ]
    }
   ],
   "source": [
    "a = 'daven'\n",
    "b = 12\n",
    "\n",
    "print(a + \" has \" + str(b) + \" fruits\")\n",
    "\n"
   ]
  },
  {
   "cell_type": "code",
   "execution_count": null,
   "id": "1a7843d9-5867-4b2b-a5d2-85a2f8b7c314",
   "metadata": {},
   "outputs": [],
   "source": [
    "prompt = \"Provide 2 numbers\"\n",
    "prompt1 = \"number 1: \"\n",
    "number1 = input(prompt1)\n",
    "prompt2 = \"number 2: \"\n",
    "number2 = input(prompt2)\n",
    "\n",
    "total = int(number1) * int(number2)\n",
    "totalFloat = float(number1) * float(number2)\n",
    "\n",
    "print(\"Total: \" + str(total))\n",
    "print(\"Float total: \" + str(totalFloat))"
   ]
  },
  {
   "cell_type": "code",
   "execution_count": null,
   "id": "85f4f873-ce2e-47d8-ae70-3a88574a8986",
   "metadata": {},
   "outputs": [],
   "source": []
  }
 ],
 "metadata": {
  "kernelspec": {
   "display_name": "Python 3 (ipykernel)",
   "language": "python",
   "name": "python3"
  },
  "language_info": {
   "codemirror_mode": {
    "name": "ipython",
    "version": 3
   },
   "file_extension": ".py",
   "mimetype": "text/x-python",
   "name": "python",
   "nbconvert_exporter": "python",
   "pygments_lexer": "ipython3",
   "version": "3.13.5"
  }
 },
 "nbformat": 4,
 "nbformat_minor": 5
}
