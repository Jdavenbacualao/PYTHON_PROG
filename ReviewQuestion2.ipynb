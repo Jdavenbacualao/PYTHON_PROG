{
 "cells": [
  {
   "cell_type": "code",
   "execution_count": 11,
   "id": "cf426a4a-6748-4013-81cd-d62018d0a3ad",
   "metadata": {},
   "outputs": [
    {
     "ename": "NameError",
     "evalue": "name 'new_text' is not defined",
     "output_type": "error",
     "traceback": [
      "\u001b[1;31m---------------------------------------------------------------------------\u001b[0m",
      "\u001b[1;31mNameError\u001b[0m                                 Traceback (most recent call last)",
      "Cell \u001b[1;32mIn[11], line 2\u001b[0m\n\u001b[0;32m      1\u001b[0m text \u001b[38;5;241m=\u001b[39m \u001b[38;5;124m\"\u001b[39m\u001b[38;5;124mAnimals , Honeybee, Badger , HoneyBadger\u001b[39m\u001b[38;5;124m\"\u001b[39m\n\u001b[1;32m----> 2\u001b[0m \u001b[38;5;28mprint\u001b[39m((new_text\u001b[38;5;241m.\u001b[39mupper))\n",
      "\u001b[1;31mNameError\u001b[0m: name 'new_text' is not defined"
     ]
    }
   ],
   "source": [
    "text = \"Animals , Honeybee, Badger , HoneyBadger\"\n",
    "print(new_text.upper);"
   ]
  },
  {
   "cell_type": "code",
   "execution_count": null,
   "id": "b8a6ddd6-d375-4108-b132-607981374468",
   "metadata": {},
   "outputs": [],
   "source": []
  },
  {
   "cell_type": "code",
   "execution_count": null,
   "id": "65327c5d-0ab9-4a28-8b95-25767a3c0747",
   "metadata": {},
   "outputs": [],
   "source": []
  }
 ],
 "metadata": {
  "kernelspec": {
   "display_name": "Python 3 (ipykernel)",
   "language": "python",
   "name": "python3"
  },
  "language_info": {
   "codemirror_mode": {
    "name": "ipython",
    "version": 3
   },
   "file_extension": ".py",
   "mimetype": "text/x-python",
   "name": "python",
   "nbconvert_exporter": "python",
   "pygments_lexer": "ipython3",
   "version": "3.13.5"
  }
 },
 "nbformat": 4,
 "nbformat_minor": 5
}
