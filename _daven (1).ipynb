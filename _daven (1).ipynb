{
 "cells": [
  {
   "cell_type": "markdown",
   "id": "79533080-b45e-46fe-b348-2c82a9f4d436",
   "metadata": {},
   "source": [
    "# Review 1"
   ]
  },
  {
   "cell_type": "code",
   "execution_count": 1,
   "id": "d4dac52f-0c12-4eab-ad8f-397a9f828dd6",
   "metadata": {},
   "outputs": [
    {
     "name": "stdout",
     "output_type": "stream",
     "text": [
      "1\n",
      "True\n",
      "False\n",
      "True\n",
      "True\n",
      "True\n",
      "False\n",
      "2\n",
      "True\n",
      "True\n",
      "True\n",
      "True\n"
     ]
    }
   ],
   "source": [
    "print(\"1\")\n",
    "\n",
    "print( 1 <= 1)\n",
    "print( 1 != 1)\n",
    "print( 1 != 2)\n",
    "print(\"good\" != \"bad\")\n",
    "print(\"good\" != \"Good\")\n",
    "print(123 == \"123\")\n",
    "\n",
    "print(\"2\")\n",
    "\n",
    "print(3 < 4)\n",
    "print(10 > 5)\n",
    "print(\"jack\" != \"jill\")\n",
    "print(42 == int(\"42\"))\n",
    " "
   ]
  },
  {
   "cell_type": "code",
   "execution_count": 2,
   "id": "c8dba905-27bb-4965-8550-cc272f345cf4",
   "metadata": {},
   "outputs": [
    {
     "name": "stdout",
     "output_type": "stream",
     "text": [
      "1\n",
      "False\n",
      "False\n",
      "True\n",
      "False\n",
      "2\n",
      "True\n",
      "True\n",
      "True\n"
     ]
    }
   ],
   "source": [
    "print(\"1\")\n",
    "print((11) and (1 != 1))\n",
    "print(not (112))\n",
    "print((\"good\" != \"bad\") or False)\n",
    "print((\"good\" != \"Good\") and not (1 == 1))\n",
    "print(\"2\")\n",
    "print(False != True)\n",
    "print((True and False) == (True and False))\n",
    "print((True) or (\"A\"== \"B\"))"
   ]
  },
  {
   "cell_type": "markdown",
   "id": "657b1fe5-9ae0-4322-9223-98099e6656ac",
   "metadata": {},
   "source": [
    "# Review 2"
   ]
  },
  {
   "cell_type": "code",
   "execution_count": 1,
   "id": "ca1e36d1-4436-49c3-904d-c82c18f1ea79",
   "metadata": {},
   "outputs": [
    {
     "name": "stdout",
     "output_type": "stream",
     "text": [
      "False\n",
      "False\n",
      "True\n",
      "False\n"
     ]
    }
   ],
   "source": [
    "print((1 <= 1) and (1 != 1))\n",
    "print(not(1 != 2))\n",
    "print((\"good\" != \"bad\") or False)\n",
    "print((\"good\" != \"Good\") and not (1 == 1))"
   ]
  },
  {
   "cell_type": "code",
   "execution_count": 2,
   "id": "45eb7998-2bba-4a53-9011-197a7222f65d",
   "metadata": {},
   "outputs": [
    {
     "name": "stdout",
     "output_type": "stream",
     "text": [
      "True\n",
      "True\n",
      "True\n"
     ]
    }
   ],
   "source": [
    "print(False == (not True))\n",
    "print((True and False) == (True and False))\n",
    "print(not True == (\"A\" == \"B\"))"
   ]
  },
  {
   "cell_type": "markdown",
   "id": "f35518ae-4526-49d3-a6bb-615d652b2c8b",
   "metadata": {},
   "source": [
    "# Review 3"
   ]
  },
  {
   "cell_type": "code",
   "execution_count": 3,
   "id": "9d2c4c2a-6bf4-4f47-b020-9f5229685b24",
   "metadata": {},
   "outputs": [
    {
     "name": "stdin",
     "output_type": "stream",
     "text": [
      "Enter a word wow\n"
     ]
    },
    {
     "name": "stdout",
     "output_type": "stream",
     "text": [
      "It's less than 5 characters\n"
     ]
    }
   ],
   "source": [
    "varString = input(\"Enter a word\")\n",
    "\n",
    "if len(varString) < 5:\n",
    "    print(\"It's less than 5 characters\")\n",
    "elif len(varString) > 5:\n",
    "    print(\"It's greater than 5 characters\")\n",
    "elif len(varString) == 5:\n",
    "    print(\"It's equal to 5 characters\")\n",
    "else:\n",
    "    print(\"Error\")"
   ]
  },
  {
   "cell_type": "markdown",
   "id": "494bace1-3acf-428a-b1aa-68657436d3d1",
   "metadata": {},
   "source": [
    "# Review 4"
   ]
  },
  {
   "cell_type": "code",
   "execution_count": null,
   "id": "42d50b6d-91ab-45cf-b268-a2c1f3ebacf4",
   "metadata": {},
   "outputs": [],
   "source": [
    "uInput = \"\"\n",
    "while uInput.lower() != 'q':\n",
    "    uInput = input(\"[Q] - quit\\nEnter an input: \")\n"
   ]
  },
  {
   "cell_type": "code",
   "execution_count": null,
   "id": "3cd729fc-33b4-4dcc-b28f-1947c92bc61a",
   "metadata": {},
   "outputs": [],
   "source": [
    "n = 0\n",
    "for n in range(1, 20):\n",
    "    if n % 3 != 0:\n",
    "        print(n)\n",
    "    continue\n"
   ]
  },
  {
   "cell_type": "markdown",
   "id": "2d59ce62-f206-4867-b27c-ddcad7bbb79b",
   "metadata": {},
   "source": [
    "# Review 5"
   ]
  },
  {
   "cell_type": "code",
   "execution_count": null,
   "id": "7f171e67-2eb0-48d6-b86b-d988229fadf3",
   "metadata": {},
   "outputs": [],
   "source": [
    "try:\n",
    "    uInput = int(input(\"Enter an Integer(numbers): \"))\n",
    "    print(uInput)\n",
    "except:\n",
    "    print(\"Try again\")"
   ]
  },
  {
   "cell_type": "code",
   "execution_count": null,
   "id": "be9048f5-3b21-4b3a-aa72-f091534ebe30",
   "metadata": {},
   "outputs": [],
   "source": [
    "uInput = input(\"Enter a word: \")\n",
    "uInputInt = int(input(\"Enter a integer(number): \"))\n",
    "\n",
    "if 0 <= uInputInt < len(uInput):\n",
    "    print(\"Character in index\", uInputInt, \"is\", uInput[uInputInt])\n",
    "else:\n",
    "    print(\"Word and index does not match\")"
   ]
  },
  {
   "cell_type": "markdown",
   "id": "f9b75834-f946-4449-9db3-a49714f45644",
   "metadata": {},
   "source": [
    "# Review 6"
   ]
  },
  {
   "cell_type": "code",
   "execution_count": null,
   "id": "105f9ea1-4044-440b-96d7-dbdd08a43d39",
   "metadata": {},
   "outputs": [],
   "source": [
    "import random\n",
    "\n",
    "def roll():\n",
    "    return random.randint(1,6)\n",
    "\n",
    "uInput = int(input(\"Do you want to roll a die?\\n[1] - yes\\n[2] - no\\nSelected: \"))\n",
    "while uInput != 2:\n",
    "    if uInput == 1:\n",
    "        print(\"You've rolled a die\")\n",
    "        print(\"result: \", roll())\n",
    "    else:\n",
    "        print(\"Please select yes or no\")\n",
    "    uInput = int(input(\"Do you want to continue?\\n[1] - yes\\n[2] - no\\nSelected: \"))\n",
    "print(\"Thank you!\")"
   ]
  },
  {
   "cell_type": "code",
   "execution_count": null,
   "id": "1110a71b-0618-4b14-9d7c-0b3fe605c00e",
   "metadata": {},
   "outputs": [],
   "source": [
    "import random\n",
    "\n",
    "rolledNumber = 0\n",
    "numberOfRolledDie = 10000\n",
    "\n",
    "for _ in range(numberOfRolledDie):\n",
    "    roll = random.randint(1, 6)\n",
    "    rolledNumber += roll\n",
    "\n",
    "result = rolledNumber / 10000\n",
    "print(f\"The average result of {numberOfRolledDie} rolls is {result}\")"
   ]
  },
  {
   "cell_type": "code",
   "execution_count": null,
   "id": "32ee8ac5-c6b5-4e14-98bd-c456c04a7cb4",
   "metadata": {},
   "outputs": [],
   "source": [
    "import random\n",
    "\n",
    "def election():\n",
    "    region1 = random.random() < 0.87\n",
    "    region2 = random.random() < 0.65\n",
    "    region3 = random.random() < 0.17\n",
    "\n",
    "    total = region1 + region2 + region3\n",
    "    return total >= 2\n",
    "\n",
    "simulate = 10000\n",
    "candidate_A_Win= 0\n",
    "\n",
    "for _ in range(simulate):\n",
    "    if election():\n",
    "        candidate_A_Win += 1\n",
    "\n",
    "probability = candidate_A_Win / simulate\n",
    "print(f\"The probability of candidate A winning is {probability:.2%}\")    "
   ]
  },
  {
   "cell_type": "code",
   "execution_count": null,
   "id": "4a3778c2-f21f-4fac-8298-24185b87fdd8",
   "metadata": {},
   "outputs": [],
   "source": []
  }
 ],
 "metadata": {
  "kernelspec": {
   "display_name": "Python [conda env:base] *",
   "language": "python",
   "name": "conda-base-py"
  },
  "language_info": {
   "codemirror_mode": {
    "name": "ipython",
    "version": 3
   },
   "file_extension": ".py",
   "mimetype": "text/x-python",
   "name": "python",
   "nbconvert_exporter": "python",
   "pygments_lexer": "ipython3",
   "version": "3.13.5"
  }
 },
 "nbformat": 4,
 "nbformat_minor": 5
}
