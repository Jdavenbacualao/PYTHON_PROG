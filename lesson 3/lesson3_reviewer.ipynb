{
 "cells": [
  {
   "cell_type": "markdown",
   "id": "58bb1751-5582-41a9-b357-f3e86bca99c4",
   "metadata": {},
   "source": [
    "1. Write a function called cube() with one number parameter and re\u0002turns the value of that number raised to the third power. Test the\n",
    "function by displaying the result of calling your cube() function on\n",
    "a few different numbers."
   ]
  },
  {
   "cell_type": "code",
   "execution_count": 33,
   "id": "e83831c4-a3d1-48f1-8da2-2c94d847adb7",
   "metadata": {
    "scrolled": true
   },
   "outputs": [
    {
     "name": "stdout",
     "output_type": "stream",
     "text": [
      "125\n",
      "343\n",
      "27\n"
     ]
    }
   ],
   "source": [
    "\n",
    "def cube(number):\n",
    "    return number ** 3\n",
    "print(cube(5))   \n",
    "print(cube(7))   \n",
    "print(cube(3))  \n",
    " "
   ]
  },
  {
   "cell_type": "markdown",
   "id": "8387ae03-b9cc-4d1b-ba3a-9e4518021421",
   "metadata": {},
   "source": [
    "2. Write a function called greet() that takes one string parameter\n",
    "called name and displays the text \"Hello <name>!\"\n",
    ", where <name> is\n",
    "replaced with the value of the name parameter"
   ]
  },
  {
   "cell_type": "code",
   "execution_count": 29,
   "id": "9a0404da-9d80-4361-b1b4-359e691620a1",
   "metadata": {},
   "outputs": [
    {
     "name": "stdout",
     "output_type": "stream",
     "text": [
      "hello, daven!\n"
     ]
    }
   ],
   "source": [
    "def greet(name):\n",
    "    print(f\"hello, {name}!\") \n",
    "greet(\"daven\")"
   ]
  },
  {
   "cell_type": "markdown",
   "id": "be621ea3-d282-4445-bdc4-3b0855aa6238",
   "metadata": {},
   "source": [
    "# challenge.convert temperature"
   ]
  },
  {
   "cell_type": "markdown",
   "id": "a267e0d2-c226-47f9-aa2a-f00fad93a858",
   "metadata": {},
   "source": [
    "1.Write a function named convert_cel_to_far() which takes one float\n",
    "parameter representing degrees Celsius and returns a float\n",
    "representing the same temperature in degrees Farenheit."
   ]
  },
  {
   "cell_type": "code",
   "execution_count": 39,
   "id": "b2118442-26ea-4395-958c-8486636fd62d",
   "metadata": {},
   "outputs": [
    {
     "name": "stdin",
     "output_type": "stream",
     "text": [
      "Enter a temperature in degrees F:  72\n"
     ]
    },
    {
     "name": "stdout",
     "output_type": "stream",
     "text": [
      "72.0 degrees F = 22.22 degrees C\n"
     ]
    }
   ],
   "source": [
    "def convert_far_to_cel(fahrenheit):\n",
    "    celsius = (fahrenheit - 32) * 5 / 9\n",
    "    return celsius\n",
    "\n",
    "fahrenheit_input = float(input(\"Enter a temperature in degrees F: \"))\n",
    "\n",
    "celsius_output = convert_far_to_cel(fahrenheit_input)\n",
    "print(f\"{fahrenheit_input} degrees F = {celsius_output:.2f} degrees C\")\n"
   ]
  },
  {
   "cell_type": "markdown",
   "id": "9e8e7ef8-8fe5-486a-8cd8-e609b0858d6e",
   "metadata": {},
   "source": [
    "2.Write a function named convert_far_to_cel() which take one float\n",
    "parameter representing degrees Fahrenheit and returns a float\n",
    "representing the same temperature in degrees Celsius"
   ]
  },
  {
   "cell_type": "code",
   "execution_count": 42,
   "id": "c9af6fcb-482a-4f5f-8b5f-b692ba2281be",
   "metadata": {},
   "outputs": [
    {
     "name": "stdin",
     "output_type": "stream",
     "text": [
      "Enter a temperature in degrees C:  37\n"
     ]
    },
    {
     "name": "stdout",
     "output_type": "stream",
     "text": [
      "37.0 degrees C = 98.60 degrees F\n"
     ]
    }
   ],
   "source": [
    "def convert_cel_to_far(celsius):\n",
    "    fahrenheit = (celsius * 9 / 5) + 32\n",
    "    return fahrenheit\n",
    "\n",
    "celsius_input = float(input(\"Enter a temperature in degrees C: \"))\n",
    "\n",
    "fahrenheit_output = convert_cel_to_far(celsius_input)\n",
    "print(f\"{celsius_input} degrees C = {fahrenheit_output:.2f} degrees F\")"
   ]
  },
  {
   "cell_type": "markdown",
   "id": "1f5b37ff-b0bf-4a19-a7b3-126f90c2b509",
   "metadata": {},
   "source": [
    "RQ2"
   ]
  },
  {
   "cell_type": "markdown",
   "id": "e5e5b6ec-b9f4-4b72-b4b8-3904c6c1df64",
   "metadata": {},
   "source": [
    "1.Write a for loop that prints out the integers 2 through 10, each on a\n",
    "new line, by using the range() function."
   ]
  },
  {
   "cell_type": "code",
   "execution_count": 43,
   "id": "79f0b06f-3bf2-41b0-a6ce-d5c14ce44a08",
   "metadata": {},
   "outputs": [
    {
     "name": "stdout",
     "output_type": "stream",
     "text": [
      "2\n",
      "3\n",
      "4\n",
      "5\n",
      "6\n",
      "7\n",
      "8\n",
      "9\n",
      "10\n"
     ]
    }
   ],
   "source": [
    "for num in range(2, 11):   \n",
    "    print(num)\n"
   ]
  },
  {
   "cell_type": "markdown",
   "id": "2a33006d-0871-4959-a6b2-30386246be75",
   "metadata": {},
   "source": [
    "2.Use a while loop that prints out the integers 2 through 10 (Hint: You’ll\n",
    "need to create a new integer first.)"
   ]
  },
  {
   "cell_type": "code",
   "execution_count": 45,
   "id": "64360e0f-f54c-4980-990b-daa9345afdbe",
   "metadata": {},
   "outputs": [
    {
     "name": "stdout",
     "output_type": "stream",
     "text": [
      "2\n",
      "3\n",
      "4\n",
      "5\n",
      "6\n",
      "7\n",
      "8\n",
      "9\n",
      "10\n"
     ]
    }
   ],
   "source": [
    "current = 2\n",
    "while current <= 10:\n",
    "    print(current)\n",
    "    current += 1  \n"
   ]
  },
  {
   "cell_type": "markdown",
   "id": "e67f7c11-7ee5-4844-8ca8-0a2e34494460",
   "metadata": {},
   "source": [
    "3.Write a function called doubles() that takes one number as its input and\n",
    "doubles that number. Then use the doubles() function in a loop to\n",
    "double the number 2 three times, displaying each result on a separate\n",
    "line. Here is some sample output"
   ]
  },
  {
   "cell_type": "code",
   "execution_count": 46,
   "id": "742abc66-09df-40f5-9513-a446c210761b",
   "metadata": {},
   "outputs": [
    {
     "name": "stdout",
     "output_type": "stream",
     "text": [
      "4 8 16 "
     ]
    }
   ],
   "source": [
    "def doubles(number):\n",
    "    return number * 2\n",
    "num = 2\n",
    "for _ in range(3):\n",
    "    num = doubles(num)\n",
    "    print(num, end=' ')  \n"
   ]
  },
  {
   "cell_type": "code",
   "execution_count": null,
   "id": "f2dfe655-4300-4653-abfc-2afd67ce0360",
   "metadata": {},
   "outputs": [],
   "source": []
  }
 ],
 "metadata": {
  "kernelspec": {
   "display_name": "Python 3 (ipykernel)",
   "language": "python",
   "name": "python3"
  },
  "language_info": {
   "codemirror_mode": {
    "name": "ipython",
    "version": 3
   },
   "file_extension": ".py",
   "mimetype": "text/x-python",
   "name": "python",
   "nbconvert_exporter": "python",
   "pygments_lexer": "ipython3",
   "version": "3.13.5"
  }
 },
 "nbformat": 4,
 "nbformat_minor": 5
}
