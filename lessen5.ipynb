{
 "cells": [
  {
   "cell_type": "markdown",
   "id": "151bd4ef-7c17-440a-8cc1-7d4fee4d0ac3",
   "metadata": {},
   "source": [
    "# R1"
   ]
  },
  {
   "cell_type": "markdown",
   "id": "35ab0882-14c5-4c55-93d6-1c51d5c7da86",
   "metadata": {},
   "source": [
    "cardinal_numbers = (\"FIRST\", \"SECOND\", \"THIRD\")\n",
    "print(cardinal_numbers[1])"
   ]
  },
  {
   "cell_type": "code",
   "execution_count": 2,
   "id": "e362892f-03ec-49e1-ad9d-1d693bcf9f5f",
   "metadata": {},
   "outputs": [
    {
     "name": "stdout",
     "output_type": "stream",
     "text": [
      "The string index is at index 1 SECOND\n"
     ]
    }
   ],
   "source": [
    "print(\"The string index is at index 1\",cardinal_numbers[1])"
   ]
  },
  {
   "cell_type": "code",
   "execution_count": 3,
   "id": "4b601070-9016-4069-94b0-b818684d8884",
   "metadata": {},
   "outputs": [
    {
     "name": "stdout",
     "output_type": "stream",
     "text": [
      "FIRST\n",
      "SECOND\n",
      "THIRD\n"
     ]
    }
   ],
   "source": [
    "position1, position2, position3 = cardinal_numbers\n",
    "\n",
    "print(position1)\n",
    "print(position2)\n",
    "print(position3)"
   ]
  },
  {
   "cell_type": "code",
   "execution_count": 4,
   "id": "7fe9ddde-5869-4ad8-bba0-b80529187982",
   "metadata": {},
   "outputs": [
    {
     "name": "stdout",
     "output_type": "stream",
     "text": [
      "('D', 'a', 'v', 'e', 'n')\n"
     ]
    }
   ],
   "source": [
    "my_name = tuple(\"Daven\")   \n",
    "print(my_name)"
   ]
  },
  {
   "cell_type": "code",
   "execution_count": 5,
   "id": "a815dc4e-bd78-4653-8b73-a65a9ace3ac5",
   "metadata": {},
   "outputs": [
    {
     "name": "stdout",
     "output_type": "stream",
     "text": [
      "False\n"
     ]
    }
   ],
   "source": [
    "print(\"X\" in my_name)"
   ]
  },
  {
   "cell_type": "code",
   "execution_count": 6,
   "id": "4b052693-1ef0-4b44-be60-66cd0d1b1e4e",
   "metadata": {},
   "outputs": [
    {
     "name": "stdout",
     "output_type": "stream",
     "text": [
      "('a', 'v', 'e', 'n')\n"
     ]
    }
   ],
   "source": [
    "new_tuple = my_name[1:]\n",
    "print(new_tuple)"
   ]
  },
  {
   "cell_type": "markdown",
   "id": "b365b5ae-fa8f-4d02-ae87-ab0ff11fcc6f",
   "metadata": {},
   "source": [
    "# R2"
   ]
  },
  {
   "cell_type": "code",
   "execution_count": 8,
   "id": "c5079b50-a194-4079-ad46-b1a1827a7914",
   "metadata": {},
   "outputs": [
    {
     "name": "stdout",
     "output_type": "stream",
     "text": [
      "['rice', 'beans']\n"
     ]
    }
   ],
   "source": [
    "food = [\"rice\", \"beans\"]\n",
    "print(food)"
   ]
  },
  {
   "cell_type": "code",
   "execution_count": 9,
   "id": "b74bdd0f-41aa-4968-bc9d-21f35838de16",
   "metadata": {},
   "outputs": [
    {
     "name": "stdout",
     "output_type": "stream",
     "text": [
      "['rice', 'beans', 'broccoli']\n"
     ]
    }
   ],
   "source": [
    "food.append(\"broccoli\")\n",
    "print(food)"
   ]
  },
  {
   "cell_type": "code",
   "execution_count": 10,
   "id": "52a314ee-5c41-40dc-b2e5-f09159ab0121",
   "metadata": {},
   "outputs": [
    {
     "name": "stdout",
     "output_type": "stream",
     "text": [
      "['rice', 'beans', 'broccoli', 'bread', 'pizza']\n"
     ]
    }
   ],
   "source": [
    "food.extend([\"bread\", \"pizza\"])\n",
    "print(food)"
   ]
  },
  {
   "cell_type": "code",
   "execution_count": 11,
   "id": "b7d4044e-c193-43ed-8bdf-6d0bd33c2a79",
   "metadata": {},
   "outputs": [
    {
     "name": "stdout",
     "output_type": "stream",
     "text": [
      "['rice', 'beans']\n"
     ]
    }
   ],
   "source": [
    "print(food[:2])"
   ]
  },
  {
   "cell_type": "code",
   "execution_count": 12,
   "id": "4d802c7b-b176-4c3c-842a-e4516b478ebc",
   "metadata": {},
   "outputs": [
    {
     "name": "stdout",
     "output_type": "stream",
     "text": [
      "['rice', 'beans', 'broccoli', 'bread']\n"
     ]
    }
   ],
   "source": [
    "print(food[:-1])"
   ]
  },
  {
   "cell_type": "code",
   "execution_count": 13,
   "id": "03eddb39-845e-475f-a3d8-040b89a94108",
   "metadata": {},
   "outputs": [
    {
     "name": "stdout",
     "output_type": "stream",
     "text": [
      "['eggs', 'fruits', 'orange juice']\n"
     ]
    }
   ],
   "source": [
    "breakfast = \"eggs, fruits, orange juice\".split(\", \")\n",
    "print(breakfast)"
   ]
  },
  {
   "cell_type": "code",
   "execution_count": 14,
   "id": "3ce43378-6d41-4456-8afc-509d41fca83d",
   "metadata": {},
   "outputs": [
    {
     "name": "stdout",
     "output_type": "stream",
     "text": [
      "3\n"
     ]
    }
   ],
   "source": [
    "print(len(breakfast))"
   ]
  },
  {
   "cell_type": "code",
   "execution_count": 15,
   "id": "8959b8bb-0fb3-4361-aaa3-f484a1be1500",
   "metadata": {},
   "outputs": [
    {
     "name": "stdout",
     "output_type": "stream",
     "text": [
      "[4, 6, 12]\n"
     ]
    }
   ],
   "source": [
    "lengths = [len(item)\n",
    "           for item in breakfast]\n",
    "print(lengths)"
   ]
  },
  {
   "cell_type": "markdown",
   "id": "4c8e4d45-3663-455a-9643-aa89f6787032",
   "metadata": {},
   "source": [
    "# R3"
   ]
  },
  {
   "cell_type": "code",
   "execution_count": 16,
   "id": "2266b7ba-3b31-46e2-86f3-f052bd51d11d",
   "metadata": {},
   "outputs": [
    {
     "name": "stdout",
     "output_type": "stream",
     "text": [
      "((1, 2), (3, 4))\n"
     ]
    }
   ],
   "source": [
    "data = ((1, 2), (3, 4))\n",
    "print (data)"
   ]
  },
  {
   "cell_type": "code",
   "execution_count": 17,
   "id": "5ac89b14-c23c-4a93-b0e6-96193542c982",
   "metadata": {},
   "outputs": [
    {
     "name": "stdout",
     "output_type": "stream",
     "text": [
      "Row 1 sum: 3\n",
      "Row 2 sum: 7\n"
     ]
    }
   ],
   "source": [
    "row_num = 1\n",
    "for tupple in data:\n",
    "    print(f\"Row {row_num} sum:\", sum(tupple))\n",
    "    row_num += 1"
   ]
  },
  {
   "cell_type": "code",
   "execution_count": 18,
   "id": "690f5b7e-3a20-4049-8f39-ee05c6410e86",
   "metadata": {},
   "outputs": [
    {
     "name": "stdout",
     "output_type": "stream",
     "text": [
      "Copy of numbers: [5, 2, 9, 1, 7]\n"
     ]
    }
   ],
   "source": [
    "numbers = [5, 2, 9, 1, 7]\n",
    "numbers_copy = numbers[:]\n",
    "print(\"Copy of numbers:\", numbers_copy)"
   ]
  },
  {
   "cell_type": "code",
   "execution_count": 19,
   "id": "1c80b009-3af4-434d-a285-653b736b88b4",
   "metadata": {},
   "outputs": [
    {
     "name": "stdout",
     "output_type": "stream",
     "text": [
      "Sorted numbers: [1, 2, 5, 7, 9]\n"
     ]
    }
   ],
   "source": [
    "numbers.sort()\n",
    "print(\"Sorted numbers:\", numbers)"
   ]
  },
  {
   "cell_type": "code",
   "execution_count": 20,
   "id": "b9b4b1b9-a2a2-4b71-bc46-519d0495d52d",
   "metadata": {},
   "outputs": [
    {
     "name": "stdout",
     "output_type": "stream",
     "text": [
      "['California Institute of Technology', 2175, 37704]\n",
      "['Harvard', 19627, 39849]\n",
      "['Massachusetts Institute of Technology', 10566, 40732]\n",
      "['Princeton', 7802, 37000]\n",
      "['Rice', 5879, 35551]\n",
      "['Stanford', 19535, 40569]\n",
      "['Yale', 11701, 40500]\n"
     ]
    }
   ],
   "source": [
    "universities = [\n",
    "    ['California Institute of Technology', 2175, 37704],\n",
    "    ['Harvard', 19627, 39849],\n",
    "    ['Massachusetts Institute of Technology', 10566, 40732],\n",
    "    ['Princeton', 7802, 37000],\n",
    "    ['Rice', 5879, 35551],\n",
    "    ['Stanford', 19535, 40569],\n",
    "    ['Yale', 11701, 40500]\n",
    "]\n",
    "for university in universities:\n",
    "    print(university)"
   ]
  },
  {
   "cell_type": "code",
   "execution_count": 21,
   "id": "212d997d-7630-4ab9-b9df-22cd6cef655c",
   "metadata": {},
   "outputs": [
    {
     "name": "stdout",
     "output_type": "stream",
     "text": [
      "Nouns: ['Fossil', 'Horse', 'Aardvark', 'Judge', 'Chef', 'Mango', 'Extrovert', 'Gorilla']\n",
      "Verbs: ['Kicks', 'Jingles', 'Bounces', 'Slurps', 'Meows', 'Explodes', 'Curdles']\n",
      "Adjectives: ['Furry', 'Balding', 'Incredulous', 'Fragrant', 'Exuberant', 'Glistening']\n",
      "Prepositions: ['Against', 'After', 'Into', 'Beneath', 'Upon', 'For', 'In', 'Like', 'Over', 'Within']\n",
      "Adverbs: ['Curiously', 'Furiously', 'Sensuously', 'Extravagantly', 'Tantalizingly']\n"
     ]
    }
   ],
   "source": [
    "nouns = [\"Fossil\", \"Horse\", \"Aardvark\", \"Judge\", \"Chef\", \"Mango\", \"Extrovert\", \"Gorilla\"]\n",
    "verbs = [\"Kicks\", \"Jingles\", \"Bounces\", \"Slurps\", \"Meows\", \"Explodes\", \"Curdles\"]\n",
    "adjectives = [\"Furry\", \"Balding\", \"Incredulous\", \"Fragrant\", \"Exuberant\", \"Glistening\"]\n",
    "prepositions = [\"Against\", \"After\", \"Into\", \"Beneath\", \"Upon\", \"For\", \"In\", \"Like\", \"Over\", \"Within\"]\n",
    "adverbs = [\"Curiously\", \"Furiously\", \"Sensuously\", \"Extravagantly\", \"Tantalizingly\"]\n",
    "\n",
    "\n",
    "print(\"Nouns:\", nouns)\n",
    "print(\"Verbs:\", verbs)\n",
    "print(\"Adjectives:\", adjectives)\n",
    "print(\"Prepositions:\", prepositions)\n",
    "print(\"Adverbs:\", adverbs)\n"
   ]
  },
  {
   "cell_type": "markdown",
   "id": "a101dbf0-a73d-4886-a9e5-803581ba2360",
   "metadata": {},
   "source": [
    "# R4"
   ]
  },
  {
   "cell_type": "code",
   "execution_count": 22,
   "id": "34dd1be4-0b77-4e5c-88ea-70961fda50a7",
   "metadata": {},
   "outputs": [],
   "source": [
    "captains = {}"
   ]
  },
  {
   "cell_type": "code",
   "execution_count": 23,
   "id": "3c590e4b-2418-4780-bdce-fc452bb06161",
   "metadata": {},
   "outputs": [],
   "source": [
    "captains['Enterprise'] = 'Picard'\n",
    "captains['Voyager'] = 'Janeway'\n",
    "captains['Defiant'] = 'Sisko'"
   ]
  },
  {
   "cell_type": "code",
   "execution_count": 24,
   "id": "489348b7-52bc-461d-ba4e-650c2dcd63cc",
   "metadata": {},
   "outputs": [],
   "source": [
    "if 'Enterprise' not in captains:\n",
    "    captains['Enterprise'] = 'Unknown'\n",
    "    "
   ]
  },
  {
   "cell_type": "code",
   "execution_count": 25,
   "id": "a1637591-03ed-484b-9692-e8bab3ddcee2",
   "metadata": {},
   "outputs": [],
   "source": [
    "if 'Discovery' not in captains:\n",
    "    captains['Discovery'] = 'Unknown'"
   ]
  },
  {
   "cell_type": "code",
   "execution_count": 26,
   "id": "b057defd-8926-4b31-86cd-88a5bec88d1a",
   "metadata": {},
   "outputs": [
    {
     "name": "stdout",
     "output_type": "stream",
     "text": [
      "The Enterprise is captained by Picard.\n",
      "The Voyager is captained by Janeway.\n",
      "The Defiant is captained by Sisko.\n",
      "The Discovery is captained by Unknown.\n"
     ]
    }
   ],
   "source": [
    "for ship, captain in captains.items():\n",
    "    print(f\"The {ship} is captained by {captain}.\")"
   ]
  },
  {
   "cell_type": "code",
   "execution_count": 27,
   "id": "4e6d95ff-5148-4784-a13f-12aa46486ab8",
   "metadata": {},
   "outputs": [],
   "source": [
    "del captains['Discovery']"
   ]
  },
  {
   "cell_type": "code",
   "execution_count": 28,
   "id": "3d9ab2bb-2286-437f-b092-ccfa1103bb5b",
   "metadata": {},
   "outputs": [
    {
     "name": "stdout",
     "output_type": "stream",
     "text": [
      "\n",
      "After deletion and re-creation using dict():\n",
      "The Enterprise is captained by Picard.\n",
      "The Voyager is captained by Janeway.\n",
      "The Defiant is captained by Sisko.\n"
     ]
    }
   ],
   "source": [
    "captains = dict(\n",
    "    Enterprise='Picard',\n",
    "    Voyager='Janeway',\n",
    "    Defiant='Sisko'\n",
    ")\n",
    "print(\"\\nAfter deletion and re-creation using dict():\")\n",
    "for ship, captain in captains.items():\n",
    "    print(f\"The {ship} is captained by {captain}.\")"
   ]
  },
  {
   "cell_type": "code",
   "execution_count": 29,
   "id": "9a711445-83e6-462b-a12b-a00d250363c6",
   "metadata": {},
   "outputs": [
    {
     "name": "stdout",
     "output_type": "stream",
     "text": [
      "The capital of Alabama is Montgomery.\n",
      "The capital of Alaska is Juneau.\n",
      "The capital of Arizona is Phoenix.\n",
      "The capital of Arkansas is Little Rock.\n",
      "The capital of California is Sacramento.\n",
      "The capital of Colorado is Denver.\n",
      "The capital of Connecticut is Hartford.\n",
      "The capital of Delaware is Dover.\n",
      "The capital of Florida is Tallahassee.\n",
      "The capital of Georgia is Atlanta.\n"
     ]
    }
   ],
   "source": [
    "capitals_dictionary = {\n",
    "    'Alabama': 'Montgomery',\n",
    "    'Alaska': 'Juneau',\n",
    "    'Arizona': 'Phoenix',\n",
    "    'Arkansas': 'Little Rock',\n",
    "    'California': 'Sacramento',\n",
    "    'Colorado': 'Denver',\n",
    "    'Connecticut': 'Hartford',\n",
    "    'Delaware': 'Dover',\n",
    "    'Florida': 'Tallahassee',\n",
    "    'Georgia': 'Atlanta',\n",
    "}\n",
    "for state, capital in capitals_dictionary.items():\n",
    "    print(f\"The capital of {state} is {capital}.\")"
   ]
  },
  {
   "cell_type": "code",
   "execution_count": null,
   "id": "47d11dd4-8aad-4422-a80d-fd3a2910f6c1",
   "metadata": {},
   "outputs": [],
   "source": []
  }
 ],
 "metadata": {
  "kernelspec": {
   "display_name": "Python [conda env:base] *",
   "language": "python",
   "name": "conda-base-py"
  },
  "language_info": {
   "codemirror_mode": {
    "name": "ipython",
    "version": 3
   },
   "file_extension": ".py",
   "mimetype": "text/x-python",
   "name": "python",
   "nbconvert_exporter": "python",
   "pygments_lexer": "ipython3",
   "version": "3.13.5"
  }
 },
 "nbformat": 4,
 "nbformat_minor": 5
}
